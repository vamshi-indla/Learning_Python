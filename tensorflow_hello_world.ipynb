{
  "nbformat": 4,
  "nbformat_minor": 0,
  "metadata": {
    "colab": {
      "name": "tensorflow_hello world",
      "provenance": [],
      "toc_visible": true,
      "authorship_tag": "ABX9TyMIY6igWnSKm2y0iyZs8/zW",
      "include_colab_link": true
    },
    "kernelspec": {
      "name": "python3",
      "display_name": "Python 3"
    }
  },
  "cells": [
    {
      "cell_type": "markdown",
      "metadata": {
        "id": "view-in-github",
        "colab_type": "text"
      },
      "source": [
        "<a href=\"https://colab.research.google.com/github/vamshi-indla/My_Learnings/blob/master/tensorflow_hello_world.ipynb\" target=\"_parent\"><img src=\"https://colab.research.google.com/assets/colab-badge.svg\" alt=\"Open In Colab\"/></a>"
      ]
    },
    {
      "cell_type": "markdown",
      "metadata": {
        "id": "083rXtnA6Wfk",
        "colab_type": "text"
      },
      "source": [
        "## Hello world of tensorflow"
      ]
    },
    {
      "cell_type": "markdown",
      "metadata": {
        "id": "DTigIM4k6b7r",
        "colab_type": "text"
      },
      "source": [
        "### Import packages"
      ]
    },
    {
      "cell_type": "code",
      "metadata": {
        "id": "b8RxOqWA6O-x",
        "colab_type": "code",
        "colab": {}
      },
      "source": [
        "import tensorflow as tf\n",
        "import numpy as np\n",
        "from tensorflow import keras"
      ],
      "execution_count": 0,
      "outputs": []
    },
    {
      "cell_type": "markdown",
      "metadata": {
        "id": "pWAb5D2y6hXP",
        "colab_type": "text"
      },
      "source": [
        "### data collection"
      ]
    },
    {
      "cell_type": "code",
      "metadata": {
        "id": "UB3Z0PQr6kW7",
        "colab_type": "code",
        "colab": {}
      },
      "source": [
        "xs = np.array([1,2,3,4,5,6],dtype=float)\n",
        "ys = np.array([2,4,6,7,10,11],dtype=float)"
      ],
      "execution_count": 0,
      "outputs": []
    },
    {
      "cell_type": "markdown",
      "metadata": {
        "id": "FWf31-9A6xal",
        "colab_type": "text"
      },
      "source": [
        "### Define model"
      ]
    },
    {
      "cell_type": "code",
      "metadata": {
        "id": "De8qpAc06u4n",
        "colab_type": "code",
        "outputId": "4a2bf0ad-d507-4248-a3b8-20b14d2c6278",
        "colab": {
          "base_uri": "https://localhost:8080/",
          "height": 370
        }
      },
      "source": [
        "model = keras.Sequential()\n",
        "model.add(keras.layers.Dense(1,input_shape=[1]))\n",
        "model.compile(optimizer=\"sgd\",loss=\"mean_squared_error\")\n",
        "\n",
        "model.fit(xs,ys,epochs=10)"
      ],
      "execution_count": 0,
      "outputs": [
        {
          "output_type": "stream",
          "text": [
            "Epoch 1/10\n",
            "1/1 [==============================] - 0s 1ms/step - loss: 36.8254\n",
            "Epoch 2/10\n",
            "1/1 [==============================] - 0s 2ms/step - loss: 17.1178\n",
            "Epoch 3/10\n",
            "1/1 [==============================] - 0s 2ms/step - loss: 7.9966\n",
            "Epoch 4/10\n",
            "1/1 [==============================] - 0s 2ms/step - loss: 3.7750\n",
            "Epoch 5/10\n",
            "1/1 [==============================] - 0s 926us/step - loss: 1.8211\n",
            "Epoch 6/10\n",
            "1/1 [==============================] - 0s 2ms/step - loss: 0.9168\n",
            "Epoch 7/10\n",
            "1/1 [==============================] - 0s 1ms/step - loss: 0.4982\n",
            "Epoch 8/10\n",
            "1/1 [==============================] - 0s 1ms/step - loss: 0.3045\n",
            "Epoch 9/10\n",
            "1/1 [==============================] - 0s 3ms/step - loss: 0.2149\n",
            "Epoch 10/10\n",
            "1/1 [==============================] - 0s 998us/step - loss: 0.1734\n"
          ],
          "name": "stdout"
        },
        {
          "output_type": "execute_result",
          "data": {
            "text/plain": [
              "<tensorflow.python.keras.callbacks.History at 0x7f02eed3b0f0>"
            ]
          },
          "metadata": {
            "tags": []
          },
          "execution_count": 7
        }
      ]
    },
    {
      "cell_type": "code",
      "metadata": {
        "id": "di_cP0B57Gib",
        "colab_type": "code",
        "outputId": "563a7fcb-3df7-4aeb-c2a9-996b69512067",
        "colab": {
          "base_uri": "https://localhost:8080/",
          "height": 34
        }
      },
      "source": [
        "model.predict([10.0])"
      ],
      "execution_count": 0,
      "outputs": [
        {
          "output_type": "execute_result",
          "data": {
            "text/plain": [
              "array([[18.131378]], dtype=float32)"
            ]
          },
          "metadata": {
            "tags": []
          },
          "execution_count": 8
        }
      ]
    },
    {
      "cell_type": "code",
      "metadata": {
        "id": "jF-tZW987Vzw",
        "colab_type": "code",
        "colab": {}
      },
      "source": [
        "model.summary()"
      ],
      "execution_count": 0,
      "outputs": []
    }
  ]
}