{
 "cells": [
  {
   "cell_type": "markdown",
   "metadata": {},
   "source": [
    "## Identify Unique Characters in Text File\n",
    "\n",
    "*Memo Lines has special characters, which are not being accepted in destination system. This analysis is to identify the Unique Characters in a Text File*"
   ]
  },
  {
   "cell_type": "code",
   "execution_count": 1,
   "metadata": {},
   "outputs": [
    {
     "name": "stdout",
     "output_type": "stream",
     "text": [
      "Records processed 100\n",
      "Records processed 200\n",
      "Records processed 300\n",
      "Records processed 400\n",
      "Records processed 500\n",
      "Records processed 600\n",
      "Records processed 700\n",
      "Records processed 800\n",
      "Records processed 900\n",
      "Records processed 1000\n",
      "Records processed 1100\n",
      "Records processed 1200\n",
      "Records processed 1300\n",
      "Records processed 1400\n",
      "Records processed 1500\n",
      "Records processed 1600\n",
      "Records processed 1700\n",
      "Records processed 1800\n",
      "Records processed 1900\n",
      "Records processed 2000\n",
      "Records processed 2100\n",
      "Records processed 2200\n",
      "Records processed 2300\n",
      "Records processed 2400\n",
      "Records processed 2500\n",
      "Records processed 2600\n",
      "Records read 2688\n"
     ]
    }
   ],
   "source": [
    "# open the memo file and read, line by line, and append each unique character in dictionary\n",
    "dict = {}\n",
    "with open('Memo.txt') as fp:\n",
    "    line = fp.readline()\n",
    "    cnt = 1\n",
    "    while line:\n",
    "        for char in line[::1]:\n",
    "            dict[char] = char\n",
    "        \n",
    "        line = fp.readline()\n",
    "        cnt = cnt+1\n",
    "        if (cnt%100) == 0 :\n",
    "            print(\"Records processed %d\" %cnt)\n",
    "\n",
    "# close file\n",
    "fp.close()\n",
    "\n",
    "# print #total records\n",
    "print(\"Records read %d\" %cnt)"
   ]
  },
  {
   "cell_type": "code",
   "execution_count": 2,
   "metadata": {},
   "outputs": [
    {
     "data": {
      "text/plain": [
       "'\\n !\"#$%&\\'()*+,-./0123456789:@ABCDEFGHIJKLMNOPQRSTUVWXYZabcdefghijklmnopqrstuvwxyz'"
      ]
     },
     "execution_count": 2,
     "metadata": {},
     "output_type": "execute_result"
    }
   ],
   "source": [
    "#converts dict values to list, and then sort it and join it\n",
    "''.join(sorted(list(dict.values())))"
   ]
  },
  {
   "cell_type": "code",
   "execution_count": null,
   "metadata": {
    "collapsed": true
   },
   "outputs": [],
   "source": []
  }
 ],
 "metadata": {
  "kernelspec": {
   "display_name": "Python 3",
   "language": "python",
   "name": "python3"
  },
  "language_info": {
   "codemirror_mode": {
    "name": "ipython",
    "version": 3
   },
   "file_extension": ".py",
   "mimetype": "text/x-python",
   "name": "python",
   "nbconvert_exporter": "python",
   "pygments_lexer": "ipython3",
   "version": "3.6.1"
  }
 },
 "nbformat": 4,
 "nbformat_minor": 2
}
