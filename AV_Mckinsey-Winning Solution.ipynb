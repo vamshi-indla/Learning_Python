{
 "cells": [
  {
   "cell_type": "code",
   "execution_count": 195,
   "metadata": {},
   "outputs": [
    {
     "data": {
      "text/html": [
       "<script>\n",
       "code_show=true; \n",
       "function code_toggle() {\n",
       " if (code_show){\n",
       " $('div.input').hide();\n",
       " } else {\n",
       " $('div.input').show();\n",
       " }\n",
       " code_show = !code_show\n",
       "} \n",
       "$( document ).ready(code_toggle);\n",
       "</script>\n",
       "The raw code for this IPython notebook is by default hidden for easier reading.\n",
       "To toggle on/off the raw code, click <a href=\"javascript:code_toggle()\">here</a>."
      ],
      "text/plain": [
       "<IPython.core.display.HTML object>"
      ]
     },
     "execution_count": 195,
     "metadata": {},
     "output_type": "execute_result"
    }
   ],
   "source": [
    "from IPython.display import HTML\n",
    "HTML('''<script>\n",
    "code_show=true; \n",
    "function code_toggle() {\n",
    " if (code_show){\n",
    " $('div.input').hide();\n",
    " } else {\n",
    " $('div.input').show();\n",
    " }\n",
    " code_show = !code_show\n",
    "} \n",
    "$( document ).ready(code_toggle);\n",
    "</script>\n",
    "The raw code for this IPython notebook is by default hidden for easier reading.\n",
    "To toggle on/off the raw code, click <a href=\"javascript:code_toggle()\">here</a>.''')"
   ]
  },
  {
   "cell_type": "code",
   "execution_count": 1,
   "metadata": {
    "collapsed": true
   },
   "outputs": [],
   "source": [
    "dir = 'C:/Users/vindla/Downloads/Cg_DS4/AV_Mc'\n",
    "import os\n",
    "os.chdir(dir)"
   ]
  },
  {
   "cell_type": "markdown",
   "metadata": {},
   "source": [
    "# McKinsey Analytics Online Hackathon - Healthcare Analytics - Held by Analyticsvidhya on April 13,2018"
   ]
  },
  {
   "cell_type": "markdown",
   "metadata": {},
   "source": [
    "## Introduction\n",
    "\n",
    "McKinsey Analytics conducted Online Hiring Hackathon on Analyticsvidhya on April 13-14, 2018. Prize for the winners is 'An all-expenses paid trip to an international analytics conference'\n",
    "\n",
    "Problem statement is related to Health Analytics Domain. More details can be found [here](https://datahack.analyticsvidhya.com/contest/mckinsey-analytics-online-hackathon/)\n",
    "\n",
    "This Approach is divided into x sections. It starts with Problem statement, importing data, descriptive analytics and visualization, feature engineering, splitting data into training and validating, model building and finaling predicting the test set.\n",
    "\n",
    "\n",
    "\n"
   ]
  },
  {
   "cell_type": "markdown",
   "metadata": {},
   "source": [
    "## Problem Statement\n",
    "Client has a chain of hospitals aiming to create the next generation of healthcare for its patients, has retained McKinsey to help achieve its vision. The company brings the best doctors and enables them to provide proactive health care for its patients. One such investment is a Center of Data Science Excellence.\n",
    "\n",
    "In this case, client wants to have study around one of the critical disease \"Stroke\". Stroke is a disease that affects the arteries leading to and within the brain. A stroke occurs when a blood vessel that carries oxygen and nutrients to the brain is either blocked by a clot or bursts (or ruptures). When that happens, part of the brain cannot get the blood (and oxygen) it needs, so it and brain cells die.\n",
    " \n",
    "Over the last few years, the Client has captured several health, demographic and lifestyle details about its patients. This includes details such as age and gender, along with several health parameters (e.g. hypertension, body mass index) and lifestyle related variables (e.g. smoking status, occupation type).\n",
    "\n",
    "The Client wants you to predict the probability of stroke happening to their patients. This will help doctors take proactive health measures for these patients."
   ]
  },
  {
   "cell_type": "markdown",
   "metadata": {},
   "source": [
    "## About the Dataset"
   ]
  },
  {
   "cell_type": "code",
   "execution_count": 63,
   "metadata": {},
   "outputs": [],
   "source": [
    "#load the data\n",
    "import pandas as pd #Load the data\n",
    "train_data = pd.read_csv(\"train.csv\")\n",
    "test_data = pd.read_csv(\"test.csv\")\n",
    "train_data['source'] = 'train'\n",
    "test_data['source'] = 'test'\n",
    "full_data  = pd.concat([train_data, test_data])"
   ]
  },
  {
   "cell_type": "code",
   "execution_count": 29,
   "metadata": {},
   "outputs": [
    {
     "name": "stdout",
     "output_type": "stream",
     "text": [
      "Training data has 43400 records and Test data has 18601 records\n",
      "\n",
      "Variables in the data are:  ['id', 'gender', 'age', 'hypertension', 'heart_disease', 'ever_married', 'work_type', 'Residence_type', 'avg_glucose_level', 'bmi', 'smoking_status', 'stroke']\n"
     ]
    }
   ],
   "source": [
    "print('Training data has %d records and Test data has %d records' %(len(train_data),len(test_data)))\n",
    "print('\\nVariables in the data are: ', list(train_data.columns))"
   ]
  },
  {
   "cell_type": "code",
   "execution_count": 64,
   "metadata": {},
   "outputs": [
    {
     "data": {
      "text/html": [
       "<div>\n",
       "<style>\n",
       "    .dataframe thead tr:only-child th {\n",
       "        text-align: right;\n",
       "    }\n",
       "\n",
       "    .dataframe thead th {\n",
       "        text-align: left;\n",
       "    }\n",
       "\n",
       "    .dataframe tbody tr th {\n",
       "        vertical-align: top;\n",
       "    }\n",
       "</style>\n",
       "<table border=\"1\" class=\"dataframe\">\n",
       "  <thead>\n",
       "    <tr style=\"text-align: right;\">\n",
       "      <th></th>\n",
       "      <th>id</th>\n",
       "      <th>gender</th>\n",
       "      <th>age</th>\n",
       "      <th>hypertension</th>\n",
       "      <th>heart_disease</th>\n",
       "      <th>ever_married</th>\n",
       "      <th>work_type</th>\n",
       "      <th>Residence_type</th>\n",
       "      <th>avg_glucose_level</th>\n",
       "      <th>bmi</th>\n",
       "      <th>smoking_status</th>\n",
       "      <th>stroke</th>\n",
       "      <th>source</th>\n",
       "    </tr>\n",
       "  </thead>\n",
       "  <tbody>\n",
       "    <tr>\n",
       "      <th>0</th>\n",
       "      <td>30669</td>\n",
       "      <td>Male</td>\n",
       "      <td>3.0</td>\n",
       "      <td>0</td>\n",
       "      <td>0</td>\n",
       "      <td>No</td>\n",
       "      <td>children</td>\n",
       "      <td>Rural</td>\n",
       "      <td>95.12</td>\n",
       "      <td>18.0</td>\n",
       "      <td>NaN</td>\n",
       "      <td>0</td>\n",
       "      <td>train</td>\n",
       "    </tr>\n",
       "    <tr>\n",
       "      <th>1</th>\n",
       "      <td>30468</td>\n",
       "      <td>Male</td>\n",
       "      <td>58.0</td>\n",
       "      <td>1</td>\n",
       "      <td>0</td>\n",
       "      <td>Yes</td>\n",
       "      <td>Private</td>\n",
       "      <td>Urban</td>\n",
       "      <td>87.96</td>\n",
       "      <td>39.2</td>\n",
       "      <td>never smoked</td>\n",
       "      <td>0</td>\n",
       "      <td>train</td>\n",
       "    </tr>\n",
       "    <tr>\n",
       "      <th>2</th>\n",
       "      <td>16523</td>\n",
       "      <td>Female</td>\n",
       "      <td>8.0</td>\n",
       "      <td>0</td>\n",
       "      <td>0</td>\n",
       "      <td>No</td>\n",
       "      <td>Private</td>\n",
       "      <td>Urban</td>\n",
       "      <td>110.89</td>\n",
       "      <td>17.6</td>\n",
       "      <td>NaN</td>\n",
       "      <td>0</td>\n",
       "      <td>train</td>\n",
       "    </tr>\n",
       "    <tr>\n",
       "      <th>3</th>\n",
       "      <td>56543</td>\n",
       "      <td>Female</td>\n",
       "      <td>70.0</td>\n",
       "      <td>0</td>\n",
       "      <td>0</td>\n",
       "      <td>Yes</td>\n",
       "      <td>Private</td>\n",
       "      <td>Rural</td>\n",
       "      <td>69.04</td>\n",
       "      <td>35.9</td>\n",
       "      <td>formerly smoked</td>\n",
       "      <td>0</td>\n",
       "      <td>train</td>\n",
       "    </tr>\n",
       "    <tr>\n",
       "      <th>4</th>\n",
       "      <td>46136</td>\n",
       "      <td>Male</td>\n",
       "      <td>14.0</td>\n",
       "      <td>0</td>\n",
       "      <td>0</td>\n",
       "      <td>No</td>\n",
       "      <td>Never_worked</td>\n",
       "      <td>Rural</td>\n",
       "      <td>161.28</td>\n",
       "      <td>19.1</td>\n",
       "      <td>NaN</td>\n",
       "      <td>0</td>\n",
       "      <td>train</td>\n",
       "    </tr>\n",
       "  </tbody>\n",
       "</table>\n",
       "</div>"
      ],
      "text/plain": [
       "      id  gender   age  hypertension  heart_disease ever_married  \\\n",
       "0  30669    Male   3.0             0              0           No   \n",
       "1  30468    Male  58.0             1              0          Yes   \n",
       "2  16523  Female   8.0             0              0           No   \n",
       "3  56543  Female  70.0             0              0          Yes   \n",
       "4  46136    Male  14.0             0              0           No   \n",
       "\n",
       "      work_type Residence_type  avg_glucose_level   bmi   smoking_status  \\\n",
       "0      children          Rural              95.12  18.0              NaN   \n",
       "1       Private          Urban              87.96  39.2     never smoked   \n",
       "2       Private          Urban             110.89  17.6              NaN   \n",
       "3       Private          Rural              69.04  35.9  formerly smoked   \n",
       "4  Never_worked          Rural             161.28  19.1              NaN   \n",
       "\n",
       "   stroke source  \n",
       "0       0  train  \n",
       "1       0  train  \n",
       "2       0  train  \n",
       "3       0  train  \n",
       "4       0  train  "
      ]
     },
     "execution_count": 64,
     "metadata": {},
     "output_type": "execute_result"
    }
   ],
   "source": [
    "# lets look at the top few rows\n",
    "train_data.head()"
   ]
  },
  {
   "cell_type": "code",
   "execution_count": 34,
   "metadata": {},
   "outputs": [
    {
     "data": {
      "text/plain": [
       "id                     int64\n",
       "gender                object\n",
       "age                  float64\n",
       "hypertension           int64\n",
       "heart_disease          int64\n",
       "ever_married          object\n",
       "work_type             object\n",
       "Residence_type        object\n",
       "avg_glucose_level    float64\n",
       "bmi                  float64\n",
       "smoking_status        object\n",
       "stroke                 int64\n",
       "dtype: object"
      ]
     },
     "execution_count": 34,
     "metadata": {},
     "output_type": "execute_result"
    }
   ],
   "source": [
    "# lets look at data types\n",
    "train_data.dtypes "
   ]
  },
  {
   "cell_type": "markdown",
   "metadata": {},
   "source": [
    "## Univariate Analysis"
   ]
  },
  {
   "cell_type": "markdown",
   "metadata": {},
   "source": [
    "### Variable ID\n",
    "\n",
    "* 'id' variable uniquely identifies each record and is not very useful field for model."
   ]
  },
  {
   "cell_type": "markdown",
   "metadata": {},
   "source": [
    "### Variable Gender\n",
    "\n",
    "* 'gender' datatype is object"
   ]
  },
  {
   "cell_type": "code",
   "execution_count": 66,
   "metadata": {},
   "outputs": [
    {
     "data": {
      "text/html": [
       "<div>\n",
       "<style>\n",
       "    .dataframe thead tr:only-child th {\n",
       "        text-align: right;\n",
       "    }\n",
       "\n",
       "    .dataframe thead th {\n",
       "        text-align: left;\n",
       "    }\n",
       "\n",
       "    .dataframe tbody tr th {\n",
       "        vertical-align: top;\n",
       "    }\n",
       "</style>\n",
       "<table border=\"1\" class=\"dataframe\">\n",
       "  <thead>\n",
       "    <tr style=\"text-align: right;\">\n",
       "      <th>gender</th>\n",
       "      <th>Female</th>\n",
       "      <th>Male</th>\n",
       "      <th>Other</th>\n",
       "    </tr>\n",
       "    <tr>\n",
       "      <th>source</th>\n",
       "      <th></th>\n",
       "      <th></th>\n",
       "      <th></th>\n",
       "    </tr>\n",
       "  </thead>\n",
       "  <tbody>\n",
       "    <tr>\n",
       "      <th>test</th>\n",
       "      <td>10957</td>\n",
       "      <td>7642</td>\n",
       "      <td>2</td>\n",
       "    </tr>\n",
       "    <tr>\n",
       "      <th>train</th>\n",
       "      <td>25665</td>\n",
       "      <td>17724</td>\n",
       "      <td>11</td>\n",
       "    </tr>\n",
       "  </tbody>\n",
       "</table>\n",
       "</div>"
      ],
      "text/plain": [
       "gender  Female   Male  Other\n",
       "source                      \n",
       "test     10957   7642      2\n",
       "train    25665  17724     11"
      ]
     },
     "execution_count": 66,
     "metadata": {},
     "output_type": "execute_result"
    }
   ],
   "source": [
    "pd.crosstab(full_data.source, full_data.gender)"
   ]
  },
  {
   "cell_type": "markdown",
   "metadata": {},
   "source": [
    "- 'gender' variable = 'other' needs to be #imputed. Lets come back to it later"
   ]
  },
  {
   "cell_type": "markdown",
   "metadata": {},
   "source": [
    "### Variable Age"
   ]
  },
  {
   "cell_type": "code",
   "execution_count": 51,
   "metadata": {},
   "outputs": [
    {
     "data": {
      "text/plain": [
       "count    62001.000000\n",
       "mean        42.169475\n",
       "std         22.522100\n",
       "min          0.080000\n",
       "25%         24.000000\n",
       "50%         44.000000\n",
       "75%         60.000000\n",
       "max         82.000000\n",
       "Name: age, dtype: float64"
      ]
     },
     "execution_count": 51,
     "metadata": {},
     "output_type": "execute_result"
    }
   ],
   "source": [
    "full_data['age'].describe()"
   ]
  },
  {
   "cell_type": "code",
   "execution_count": 49,
   "metadata": {},
   "outputs": [
    {
     "data": {
      "text/plain": [
       "<matplotlib.axes._subplots.AxesSubplot at 0x268e9db9860>"
      ]
     },
     "execution_count": 49,
     "metadata": {},
     "output_type": "execute_result"
    },
    {
     "data": {
      "image/png": "[encoded data removed]",
      "text/plain": [
       "<matplotlib.figure.Figure at 0x268e70a9048>"
      ]
     },
     "metadata": {},
     "output_type": "display_data"
    }
   ],
   "source": [
    "import seaborn as sns\n",
    "%matplotlib inline\n",
    "sns.distplot(full_data['age'])"
   ]
  },
  {
   "cell_type": "code",
   "execution_count": 82,
   "metadata": {},
   "outputs": [
    {
     "data": {
      "text/plain": [
       "<matplotlib.axes._subplots.AxesSubplot at 0x268eb995e10>"
      ]
     },
     "execution_count": 82,
     "metadata": {},
     "output_type": "execute_result"
    },
    {
     "data": {
      "image/png": "[encoded data removed]",
      "text/plain": [
       "<matplotlib.figure.Figure at 0x268eb9af7f0>"
      ]
     },
     "metadata": {},
     "output_type": "display_data"
    }
   ],
   "source": [
    "sns.boxplot(full_data.age)"
   ]
  },
  {
   "cell_type": "markdown",
   "metadata": {},
   "source": [
    "* Age deviates from normal distribution\n",
    "* Have skewness\n",
    "* No Outliers"
   ]
  },
  {
   "cell_type": "code",
   "execution_count": 50,
   "metadata": {},
   "outputs": [
    {
     "name": "stdout",
     "output_type": "stream",
     "text": [
      "Skewness: -0.099093\n",
      "Kurtosis: -1.003695\n"
     ]
    }
   ],
   "source": [
    "#skewness and kurtosis\n",
    "print(\"Skewness: %f\" % full_data['age'].skew())\n",
    "print(\"Kurtosis: %f\" % full_data['age'].kurt())"
   ]
  },
  {
   "cell_type": "markdown",
   "metadata": {},
   "source": [
    "### Variable Hypertension\n"
   ]
  },
  {
   "cell_type": "code",
   "execution_count": 67,
   "metadata": {},
   "outputs": [
    {
     "data": {
      "text/html": [
       "<div>\n",
       "<style>\n",
       "    .dataframe thead tr:only-child th {\n",
       "        text-align: right;\n",
       "    }\n",
       "\n",
       "    .dataframe thead th {\n",
       "        text-align: left;\n",
       "    }\n",
       "\n",
       "    .dataframe tbody tr th {\n",
       "        vertical-align: top;\n",
       "    }\n",
       "</style>\n",
       "<table border=\"1\" class=\"dataframe\">\n",
       "  <thead>\n",
       "    <tr style=\"text-align: right;\">\n",
       "      <th>hypertension</th>\n",
       "      <th>0</th>\n",
       "      <th>1</th>\n",
       "    </tr>\n",
       "    <tr>\n",
       "      <th>source</th>\n",
       "      <th></th>\n",
       "      <th></th>\n",
       "    </tr>\n",
       "  </thead>\n",
       "  <tbody>\n",
       "    <tr>\n",
       "      <th>test</th>\n",
       "      <td>16868</td>\n",
       "      <td>1733</td>\n",
       "    </tr>\n",
       "    <tr>\n",
       "      <th>train</th>\n",
       "      <td>39339</td>\n",
       "      <td>4061</td>\n",
       "    </tr>\n",
       "  </tbody>\n",
       "</table>\n",
       "</div>"
      ],
      "text/plain": [
       "hypertension      0     1\n",
       "source                   \n",
       "test          16868  1733\n",
       "train         39339  4061"
      ]
     },
     "execution_count": 67,
     "metadata": {},
     "output_type": "execute_result"
    }
   ],
   "source": [
    "pd.crosstab(full_data.source, full_data.hypertension)"
   ]
  },
  {
   "cell_type": "markdown",
   "metadata": {},
   "source": [
    "### Variable heart_disease"
   ]
  },
  {
   "cell_type": "code",
   "execution_count": 68,
   "metadata": {},
   "outputs": [
    {
     "data": {
      "text/html": [
       "<div>\n",
       "<style>\n",
       "    .dataframe thead tr:only-child th {\n",
       "        text-align: right;\n",
       "    }\n",
       "\n",
       "    .dataframe thead th {\n",
       "        text-align: left;\n",
       "    }\n",
       "\n",
       "    .dataframe tbody tr th {\n",
       "        vertical-align: top;\n",
       "    }\n",
       "</style>\n",
       "<table border=\"1\" class=\"dataframe\">\n",
       "  <thead>\n",
       "    <tr style=\"text-align: right;\">\n",
       "      <th>heart_disease</th>\n",
       "      <th>0</th>\n",
       "      <th>1</th>\n",
       "    </tr>\n",
       "    <tr>\n",
       "      <th>source</th>\n",
       "      <th></th>\n",
       "      <th></th>\n",
       "    </tr>\n",
       "  </thead>\n",
       "  <tbody>\n",
       "    <tr>\n",
       "      <th>test</th>\n",
       "      <td>17707</td>\n",
       "      <td>894</td>\n",
       "    </tr>\n",
       "    <tr>\n",
       "      <th>train</th>\n",
       "      <td>41338</td>\n",
       "      <td>2062</td>\n",
       "    </tr>\n",
       "  </tbody>\n",
       "</table>\n",
       "</div>"
      ],
      "text/plain": [
       "heart_disease      0     1\n",
       "source                    \n",
       "test           17707   894\n",
       "train          41338  2062"
      ]
     },
     "execution_count": 68,
     "metadata": {},
     "output_type": "execute_result"
    }
   ],
   "source": [
    "pd.crosstab(full_data.source, full_data.heart_disease)"
   ]
  },
  {
   "cell_type": "markdown",
   "metadata": {},
   "source": [
    "### Variable Marital Status"
   ]
  },
  {
   "cell_type": "code",
   "execution_count": 72,
   "metadata": {},
   "outputs": [
    {
     "data": {
      "text/html": [
       "<div>\n",
       "<style>\n",
       "    .dataframe thead tr:only-child th {\n",
       "        text-align: right;\n",
       "    }\n",
       "\n",
       "    .dataframe thead th {\n",
       "        text-align: left;\n",
       "    }\n",
       "\n",
       "    .dataframe tbody tr th {\n",
       "        vertical-align: top;\n",
       "    }\n",
       "</style>\n",
       "<table border=\"1\" class=\"dataframe\">\n",
       "  <thead>\n",
       "    <tr style=\"text-align: right;\">\n",
       "      <th>ever_married</th>\n",
       "      <th>No</th>\n",
       "      <th>Yes</th>\n",
       "    </tr>\n",
       "    <tr>\n",
       "      <th>source</th>\n",
       "      <th></th>\n",
       "      <th></th>\n",
       "    </tr>\n",
       "  </thead>\n",
       "  <tbody>\n",
       "    <tr>\n",
       "      <th>test</th>\n",
       "      <td>6662</td>\n",
       "      <td>11939</td>\n",
       "    </tr>\n",
       "    <tr>\n",
       "      <th>train</th>\n",
       "      <td>15462</td>\n",
       "      <td>27938</td>\n",
       "    </tr>\n",
       "  </tbody>\n",
       "</table>\n",
       "</div>"
      ],
      "text/plain": [
       "ever_married     No    Yes\n",
       "source                    \n",
       "test           6662  11939\n",
       "train         15462  27938"
      ]
     },
     "execution_count": 72,
     "metadata": {},
     "output_type": "execute_result"
    }
   ],
   "source": [
    "pd.crosstab(full_data.source, full_data.ever_married)"
   ]
  },
  {
   "cell_type": "markdown",
   "metadata": {},
   "source": [
    "### Variable Work Type"
   ]
  },
  {
   "cell_type": "code",
   "execution_count": 73,
   "metadata": {},
   "outputs": [
    {
     "data": {
      "text/html": [
       "<div>\n",
       "<style>\n",
       "    .dataframe thead tr:only-child th {\n",
       "        text-align: right;\n",
       "    }\n",
       "\n",
       "    .dataframe thead th {\n",
       "        text-align: left;\n",
       "    }\n",
       "\n",
       "    .dataframe tbody tr th {\n",
       "        vertical-align: top;\n",
       "    }\n",
       "</style>\n",
       "<table border=\"1\" class=\"dataframe\">\n",
       "  <thead>\n",
       "    <tr style=\"text-align: right;\">\n",
       "      <th>work_type</th>\n",
       "      <th>Govt_job</th>\n",
       "      <th>Never_worked</th>\n",
       "      <th>Private</th>\n",
       "      <th>Self-employed</th>\n",
       "      <th>children</th>\n",
       "    </tr>\n",
       "    <tr>\n",
       "      <th>source</th>\n",
       "      <th></th>\n",
       "      <th></th>\n",
       "      <th></th>\n",
       "      <th></th>\n",
       "      <th></th>\n",
       "    </tr>\n",
       "  </thead>\n",
       "  <tbody>\n",
       "    <tr>\n",
       "      <th>test</th>\n",
       "      <td>2302</td>\n",
       "      <td>75</td>\n",
       "      <td>10750</td>\n",
       "      <td>2861</td>\n",
       "      <td>2613</td>\n",
       "    </tr>\n",
       "    <tr>\n",
       "      <th>train</th>\n",
       "      <td>5440</td>\n",
       "      <td>177</td>\n",
       "      <td>24834</td>\n",
       "      <td>6793</td>\n",
       "      <td>6156</td>\n",
       "    </tr>\n",
       "  </tbody>\n",
       "</table>\n",
       "</div>"
      ],
      "text/plain": [
       "work_type  Govt_job  Never_worked  Private  Self-employed  children\n",
       "source                                                             \n",
       "test           2302            75    10750           2861      2613\n",
       "train          5440           177    24834           6793      6156"
      ]
     },
     "execution_count": 73,
     "metadata": {},
     "output_type": "execute_result"
    }
   ],
   "source": [
    "pd.crosstab(full_data.source, full_data.work_type)"
   ]
  },
  {
   "cell_type": "markdown",
   "metadata": {},
   "source": [
    "### Variable Residence Type"
   ]
  },
  {
   "cell_type": "code",
   "execution_count": 76,
   "metadata": {},
   "outputs": [
    {
     "data": {
      "text/html": [
       "<div>\n",
       "<style>\n",
       "    .dataframe thead tr:only-child th {\n",
       "        text-align: right;\n",
       "    }\n",
       "\n",
       "    .dataframe thead th {\n",
       "        text-align: left;\n",
       "    }\n",
       "\n",
       "    .dataframe tbody tr th {\n",
       "        vertical-align: top;\n",
       "    }\n",
       "</style>\n",
       "<table border=\"1\" class=\"dataframe\">\n",
       "  <thead>\n",
       "    <tr style=\"text-align: right;\">\n",
       "      <th>Residence_type</th>\n",
       "      <th>Rural</th>\n",
       "      <th>Urban</th>\n",
       "    </tr>\n",
       "    <tr>\n",
       "      <th>source</th>\n",
       "      <th></th>\n",
       "      <th></th>\n",
       "    </tr>\n",
       "  </thead>\n",
       "  <tbody>\n",
       "    <tr>\n",
       "      <th>test</th>\n",
       "      <td>9291</td>\n",
       "      <td>9310</td>\n",
       "    </tr>\n",
       "    <tr>\n",
       "      <th>train</th>\n",
       "      <td>21644</td>\n",
       "      <td>21756</td>\n",
       "    </tr>\n",
       "  </tbody>\n",
       "</table>\n",
       "</div>"
      ],
      "text/plain": [
       "Residence_type  Rural  Urban\n",
       "source                      \n",
       "test             9291   9310\n",
       "train           21644  21756"
      ]
     },
     "execution_count": 76,
     "metadata": {},
     "output_type": "execute_result"
    }
   ],
   "source": [
    "pd.crosstab(full_data.source, full_data.Residence_type)"
   ]
  },
  {
   "cell_type": "markdown",
   "metadata": {},
   "source": [
    "### avg_glucose_level"
   ]
  },
  {
   "cell_type": "code",
   "execution_count": 78,
   "metadata": {},
   "outputs": [
    {
     "data": {
      "text/plain": [
       "count    62001.000000\n",
       "mean       104.453832\n",
       "std         42.960537\n",
       "min         55.000000\n",
       "25%         77.540000\n",
       "50%         91.660000\n",
       "75%        112.120000\n",
       "max        291.050000\n",
       "Name: avg_glucose_level, dtype: float64"
      ]
     },
     "execution_count": 78,
     "metadata": {},
     "output_type": "execute_result"
    }
   ],
   "source": [
    "full_data.avg_glucose_level.describe()"
   ]
  },
  {
   "cell_type": "code",
   "execution_count": 79,
   "metadata": {},
   "outputs": [
    {
     "data": {
      "text/plain": [
       "<matplotlib.axes._subplots.AxesSubplot at 0x268ea9f7b00>"
      ]
     },
     "execution_count": 79,
     "metadata": {},
     "output_type": "execute_result"
    },
    {
     "data": {
      "image/png": "[encoded data removed]",
      "text/plain": [
       "<matplotlib.figure.Figure at 0x268ea9f7320>"
      ]
     },
     "metadata": {},
     "output_type": "display_data"
    }
   ],
   "source": [
    "sns.distplot(full_data.avg_glucose_level)"
   ]
  },
  {
   "cell_type": "markdown",
   "metadata": {},
   "source": [
    "### bmi        "
   ]
  },
  {
   "cell_type": "code",
   "execution_count": 100,
   "metadata": {},
   "outputs": [
    {
     "data": {
      "text/plain": [
       "Index(['bmi', 'smoking_status', 'stroke'], dtype='object')"
      ]
     },
     "execution_count": 100,
     "metadata": {},
     "output_type": "execute_result"
    }
   ],
   "source": [
    "full_data.columns[full_data.isnull().any()] "
   ]
  },
  {
   "cell_type": "code",
   "execution_count": 80,
   "metadata": {},
   "outputs": [
    {
     "data": {
      "text/plain": [
       "count    59948.000000\n",
       "mean        28.587099\n",
       "std          7.766122\n",
       "min         10.100000\n",
       "25%         23.200000\n",
       "50%         27.700000\n",
       "75%         32.800000\n",
       "max         97.600000\n",
       "Name: bmi, dtype: float64"
      ]
     },
     "execution_count": 80,
     "metadata": {},
     "output_type": "execute_result"
    }
   ],
   "source": [
    "full_data.bmi.describe()"
   ]
  },
  {
   "cell_type": "code",
   "execution_count": 111,
   "metadata": {},
   "outputs": [
    {
     "data": {
      "text/plain": [
       "<matplotlib.axes._subplots.AxesSubplot at 0x268e9556d30>"
      ]
     },
     "execution_count": 111,
     "metadata": {},
     "output_type": "execute_result"
    },
    {
     "data": {
      "image/png": "[encoded data removed]",
      "text/plain": [
       "<matplotlib.figure.Figure at 0x268e95565c0>"
      ]
     },
     "metadata": {},
     "output_type": "display_data"
    }
   ],
   "source": [
    "sns.boxplot(full_data.bmi)"
   ]
  },
  {
   "cell_type": "markdown",
   "metadata": {},
   "source": [
    "* Outlier needs treatment, as bmi >50 seems invalid data"
   ]
  },
  {
   "cell_type": "markdown",
   "metadata": {},
   "source": [
    "### Smoking Status"
   ]
  },
  {
   "cell_type": "code",
   "execution_count": 90,
   "metadata": {
    "scrolled": true
   },
   "outputs": [
    {
     "data": {
      "text/html": [
       "<div>\n",
       "<style>\n",
       "    .dataframe thead tr:only-child th {\n",
       "        text-align: right;\n",
       "    }\n",
       "\n",
       "    .dataframe thead th {\n",
       "        text-align: left;\n",
       "    }\n",
       "\n",
       "    .dataframe tbody tr th {\n",
       "        vertical-align: top;\n",
       "    }\n",
       "</style>\n",
       "<table border=\"1\" class=\"dataframe\">\n",
       "  <thead>\n",
       "    <tr style=\"text-align: right;\">\n",
       "      <th>smoking_status</th>\n",
       "      <th>formerly smoked</th>\n",
       "      <th>never smoked</th>\n",
       "      <th>smokes</th>\n",
       "    </tr>\n",
       "    <tr>\n",
       "      <th>source</th>\n",
       "      <th></th>\n",
       "      <th></th>\n",
       "      <th></th>\n",
       "    </tr>\n",
       "  </thead>\n",
       "  <tbody>\n",
       "    <tr>\n",
       "      <th>test</th>\n",
       "      <td>3260</td>\n",
       "      <td>6833</td>\n",
       "      <td>2757</td>\n",
       "    </tr>\n",
       "    <tr>\n",
       "      <th>train</th>\n",
       "      <td>7493</td>\n",
       "      <td>16053</td>\n",
       "      <td>6562</td>\n",
       "    </tr>\n",
       "  </tbody>\n",
       "</table>\n",
       "</div>"
      ],
      "text/plain": [
       "smoking_status  formerly smoked  never smoked  smokes\n",
       "source                                               \n",
       "test                       3260          6833    2757\n",
       "train                      7493         16053    6562"
      ]
     },
     "execution_count": 90,
     "metadata": {},
     "output_type": "execute_result"
    }
   ],
   "source": [
    "pd.crosstab(full_data.source,full_data.smoking_status)"
   ]
  },
  {
   "cell_type": "markdown",
   "metadata": {},
   "source": [
    "### Variable Stroke"
   ]
  },
  {
   "cell_type": "code",
   "execution_count": 104,
   "metadata": {},
   "outputs": [
    {
     "data": {
      "text/html": [
       "<div>\n",
       "<style>\n",
       "    .dataframe thead tr:only-child th {\n",
       "        text-align: right;\n",
       "    }\n",
       "\n",
       "    .dataframe thead th {\n",
       "        text-align: left;\n",
       "    }\n",
       "\n",
       "    .dataframe tbody tr th {\n",
       "        vertical-align: top;\n",
       "    }\n",
       "</style>\n",
       "<table border=\"1\" class=\"dataframe\">\n",
       "  <thead>\n",
       "    <tr style=\"text-align: right;\">\n",
       "      <th>stroke</th>\n",
       "      <th>0.0</th>\n",
       "      <th>1.0</th>\n",
       "    </tr>\n",
       "    <tr>\n",
       "      <th>source</th>\n",
       "      <th></th>\n",
       "      <th></th>\n",
       "    </tr>\n",
       "  </thead>\n",
       "  <tbody>\n",
       "    <tr>\n",
       "      <th>train</th>\n",
       "      <td>42617</td>\n",
       "      <td>783</td>\n",
       "    </tr>\n",
       "  </tbody>\n",
       "</table>\n",
       "</div>"
      ],
      "text/plain": [
       "stroke    0.0  1.0\n",
       "source            \n",
       "train   42617  783"
      ]
     },
     "execution_count": 104,
     "metadata": {},
     "output_type": "execute_result"
    }
   ],
   "source": [
    "pd.crosstab(full_data.source,full_data.stroke)"
   ]
  },
  {
   "cell_type": "markdown",
   "metadata": {},
   "source": [
    "* It is a highly imbalanced dataset. Classes have to be balanced #model"
   ]
  },
  {
   "cell_type": "markdown",
   "metadata": {},
   "source": [
    "## Missing values "
   ]
  },
  {
   "cell_type": "code",
   "execution_count": 110,
   "metadata": {},
   "outputs": [
    {
     "data": {
      "text/plain": [
       "Index(['bmi', 'smoking_status', 'stroke'], dtype='object')"
      ]
     },
     "execution_count": 110,
     "metadata": {},
     "output_type": "execute_result"
    }
   ],
   "source": [
    "full_data.columns[full_data.isnull().any()]"
   ]
  },
  {
   "cell_type": "markdown",
   "metadata": {},
   "source": [
    "* bmi and smoking_status has missing values, and they need imputaion"
   ]
  },
  {
   "cell_type": "code",
   "execution_count": 119,
   "metadata": {
    "collapsed": true
   },
   "outputs": [],
   "source": [
    "# Impute smoking status=NaN with 'other'\n",
    "full_data.loc[pd.isnull(full_data['smoking_status']),'smoking_status'] = \"other\"\n",
    "\n",
    "# Impute bmi=NaN with mean\n",
    "full_data.loc[pd.isnull(full_data['bmi']),'bmi'] = full_data.bmi.mean()"
   ]
  },
  {
   "cell_type": "markdown",
   "metadata": {},
   "source": [
    "## Feature Engineering"
   ]
  },
  {
   "cell_type": "markdown",
   "metadata": {},
   "source": [
    "* Created a combined feature with gender and age"
   ]
  },
  {
   "cell_type": "code",
   "execution_count": 116,
   "metadata": {
    "collapsed": true
   },
   "outputs": [],
   "source": [
    "# Create new variable 'Person' instead of gender\n",
    "# consider <16 age as child for gender\n",
    "def assign_child(psngr):\n",
    "    age, gender = psngr\n",
    "    return 'child' if age <= 16 else gender\n",
    "\n",
    "full_data['Person'] = full_data[['age','gender']].apply(assign_child,axis=1)"
   ]
  },
  {
   "cell_type": "markdown",
   "metadata": {},
   "source": [
    "* Created Bins for avg_glucose_level and bmi"
   ]
  },
  {
   "cell_type": "code",
   "execution_count": 117,
   "metadata": {
    "collapsed": true
   },
   "outputs": [],
   "source": [
    "# Binning the numeric variables: avg_glucose_level\n",
    "bins = [0, 170, 195, 225, 500]\n",
    "labels = [1,2,3,4]\n",
    "full_data['avg_glucose_level_bin'] = pd.cut(full_data['avg_glucose_level'],bins=bins, labels=labels)\n",
    "\n",
    "\n",
    "# Binning the numeric variables:bmi (ref: https://www.helpguide.org/harvard/understanding-diabetes.html)\n",
    "bins = [0,19,24,29,34,39,100]\n",
    "labels = [1,2,3,4,5,6]\n",
    "full_data['bmi_bin'] = pd.cut(full_data['bmi'],bins=bins, labels=labels)"
   ]
  },
  {
   "cell_type": "markdown",
   "metadata": {},
   "source": [
    "## Multivariate Analysis"
   ]
  },
  {
   "cell_type": "code",
   "execution_count": 123,
   "metadata": {},
   "outputs": [
    {
     "data": {
      "text/html": [
       "<div>\n",
       "<style>\n",
       "    .dataframe thead tr:only-child th {\n",
       "        text-align: right;\n",
       "    }\n",
       "\n",
       "    .dataframe thead th {\n",
       "        text-align: left;\n",
       "    }\n",
       "\n",
       "    .dataframe tbody tr th {\n",
       "        vertical-align: top;\n",
       "    }\n",
       "</style>\n",
       "<table border=\"1\" class=\"dataframe\">\n",
       "  <thead>\n",
       "    <tr style=\"text-align: right;\">\n",
       "      <th>stroke</th>\n",
       "      <th>0.0</th>\n",
       "      <th>1.0</th>\n",
       "    </tr>\n",
       "    <tr>\n",
       "      <th>Person</th>\n",
       "      <th></th>\n",
       "      <th></th>\n",
       "    </tr>\n",
       "  </thead>\n",
       "  <tbody>\n",
       "    <tr>\n",
       "      <th>Female</th>\n",
       "      <td>21768</td>\n",
       "      <td>429</td>\n",
       "    </tr>\n",
       "    <tr>\n",
       "      <th>Male</th>\n",
       "      <td>13776</td>\n",
       "      <td>352</td>\n",
       "    </tr>\n",
       "    <tr>\n",
       "      <th>Other</th>\n",
       "      <td>9</td>\n",
       "      <td>0</td>\n",
       "    </tr>\n",
       "    <tr>\n",
       "      <th>child</th>\n",
       "      <td>7064</td>\n",
       "      <td>2</td>\n",
       "    </tr>\n",
       "  </tbody>\n",
       "</table>\n",
       "</div>"
      ],
      "text/plain": [
       "stroke    0.0  1.0\n",
       "Person            \n",
       "Female  21768  429\n",
       "Male    13776  352\n",
       "Other       9    0\n",
       "child    7064    2"
      ]
     },
     "execution_count": 123,
     "metadata": {},
     "output_type": "execute_result"
    }
   ],
   "source": [
    "tab = pd.crosstab(full_data['Person'],full_data['stroke'])\n",
    "#tab.plot(kind='bar',stacked=True)\n",
    "tab"
   ]
  },
  {
   "cell_type": "markdown",
   "metadata": {},
   "source": [
    "* Lets visualize Person vs smoking status"
   ]
  },
  {
   "cell_type": "code",
   "execution_count": 124,
   "metadata": {},
   "outputs": [
    {
     "data": {
      "text/html": [
       "<div>\n",
       "<style>\n",
       "    .dataframe thead tr:only-child th {\n",
       "        text-align: right;\n",
       "    }\n",
       "\n",
       "    .dataframe thead th {\n",
       "        text-align: left;\n",
       "    }\n",
       "\n",
       "    .dataframe tbody tr th {\n",
       "        vertical-align: top;\n",
       "    }\n",
       "</style>\n",
       "<table border=\"1\" class=\"dataframe\">\n",
       "  <thead>\n",
       "    <tr style=\"text-align: right;\">\n",
       "      <th>smoking_status</th>\n",
       "      <th>formerly smoked</th>\n",
       "      <th>never smoked</th>\n",
       "      <th>other</th>\n",
       "      <th>smokes</th>\n",
       "    </tr>\n",
       "    <tr>\n",
       "      <th>Person</th>\n",
       "      <th></th>\n",
       "      <th></th>\n",
       "      <th></th>\n",
       "      <th></th>\n",
       "    </tr>\n",
       "  </thead>\n",
       "  <tbody>\n",
       "    <tr>\n",
       "      <th>Female</th>\n",
       "      <td>5792</td>\n",
       "      <td>14331</td>\n",
       "      <td>6365</td>\n",
       "      <td>5163</td>\n",
       "    </tr>\n",
       "    <tr>\n",
       "      <th>Male</th>\n",
       "      <td>4744</td>\n",
       "      <td>7246</td>\n",
       "      <td>4160</td>\n",
       "      <td>4092</td>\n",
       "    </tr>\n",
       "    <tr>\n",
       "      <th>Other</th>\n",
       "      <td>4</td>\n",
       "      <td>2</td>\n",
       "      <td>2</td>\n",
       "      <td>1</td>\n",
       "    </tr>\n",
       "    <tr>\n",
       "      <th>child</th>\n",
       "      <td>213</td>\n",
       "      <td>1307</td>\n",
       "      <td>8516</td>\n",
       "      <td>63</td>\n",
       "    </tr>\n",
       "  </tbody>\n",
       "</table>\n",
       "</div>"
      ],
      "text/plain": [
       "smoking_status  formerly smoked  never smoked  other  smokes\n",
       "Person                                                      \n",
       "Female                     5792         14331   6365    5163\n",
       "Male                       4744          7246   4160    4092\n",
       "Other                         4             2      2       1\n",
       "child                       213          1307   8516      63"
      ]
     },
     "execution_count": 124,
     "metadata": {},
     "output_type": "execute_result"
    }
   ],
   "source": [
    "pd.crosstab(full_data['Person'],full_data['smoking_status'])"
   ]
  },
  {
   "cell_type": "code",
   "execution_count": 125,
   "metadata": {
    "collapsed": true
   },
   "outputs": [],
   "source": [
    "# made all children 'never smoked' as we have only 2 stroke cases.\n",
    "full_data.loc[(full_data.Person=='child'),'smoking_status'] = 'never smoked'"
   ]
  },
  {
   "cell_type": "code",
   "execution_count": 126,
   "metadata": {
    "collapsed": true
   },
   "outputs": [],
   "source": [
    "#made all children 'Stroke = 0'\n",
    "full_data.loc[(full_data.Person=='child'),'stroke'] = 0\n"
   ]
  },
  {
   "cell_type": "markdown",
   "metadata": {},
   "source": [
    "* Lets visualize 'Person' and 'work Type'"
   ]
  },
  {
   "cell_type": "code",
   "execution_count": 128,
   "metadata": {},
   "outputs": [
    {
     "data": {
      "text/html": [
       "<div>\n",
       "<style>\n",
       "    .dataframe thead tr:only-child th {\n",
       "        text-align: right;\n",
       "    }\n",
       "\n",
       "    .dataframe thead th {\n",
       "        text-align: left;\n",
       "    }\n",
       "\n",
       "    .dataframe tbody tr th {\n",
       "        vertical-align: top;\n",
       "    }\n",
       "</style>\n",
       "<table border=\"1\" class=\"dataframe\">\n",
       "  <thead>\n",
       "    <tr style=\"text-align: right;\">\n",
       "      <th>work_type</th>\n",
       "      <th>Govt_job</th>\n",
       "      <th>Never_worked</th>\n",
       "      <th>Private</th>\n",
       "      <th>Self-employed</th>\n",
       "      <th>children</th>\n",
       "    </tr>\n",
       "    <tr>\n",
       "      <th>Person</th>\n",
       "      <th></th>\n",
       "      <th></th>\n",
       "      <th></th>\n",
       "      <th></th>\n",
       "      <th></th>\n",
       "    </tr>\n",
       "  </thead>\n",
       "  <tbody>\n",
       "    <tr>\n",
       "      <th>Female</th>\n",
       "      <td>4656</td>\n",
       "      <td>76</td>\n",
       "      <td>21236</td>\n",
       "      <td>5683</td>\n",
       "      <td>0</td>\n",
       "    </tr>\n",
       "    <tr>\n",
       "      <th>Male</th>\n",
       "      <td>3020</td>\n",
       "      <td>51</td>\n",
       "      <td>13303</td>\n",
       "      <td>3868</td>\n",
       "      <td>0</td>\n",
       "    </tr>\n",
       "    <tr>\n",
       "      <th>Other</th>\n",
       "      <td>2</td>\n",
       "      <td>0</td>\n",
       "      <td>7</td>\n",
       "      <td>0</td>\n",
       "      <td>0</td>\n",
       "    </tr>\n",
       "    <tr>\n",
       "      <th>child</th>\n",
       "      <td>64</td>\n",
       "      <td>125</td>\n",
       "      <td>1038</td>\n",
       "      <td>103</td>\n",
       "      <td>8769</td>\n",
       "    </tr>\n",
       "  </tbody>\n",
       "</table>\n",
       "</div>"
      ],
      "text/plain": [
       "work_type  Govt_job  Never_worked  Private  Self-employed  children\n",
       "Person                                                             \n",
       "Female         4656            76    21236           5683         0\n",
       "Male           3020            51    13303           3868         0\n",
       "Other             2             0        7              0         0\n",
       "child            64           125     1038            103      8769"
      ]
     },
     "execution_count": 128,
     "metadata": {},
     "output_type": "execute_result"
    }
   ],
   "source": [
    "pd.crosstab(full_data['Person'],full_data['work_type'])"
   ]
  },
  {
   "cell_type": "code",
   "execution_count": 129,
   "metadata": {
    "collapsed": true
   },
   "outputs": [],
   "source": [
    "# made all children 'work_type = children'\n",
    "full_data.loc[(full_data.Person=='child'),'work_type'] = 'children'\n"
   ]
  },
  {
   "cell_type": "markdown",
   "metadata": {},
   "source": [
    "##  Model Building"
   ]
  },
  {
   "cell_type": "markdown",
   "metadata": {},
   "source": [
    "### Standardize variables"
   ]
  },
  {
   "cell_type": "code",
   "execution_count": 131,
   "metadata": {},
   "outputs": [],
   "source": [
    "from sklearn import preprocessing\n",
    "\n",
    "# Standardize the numeric variables. i.e Age\n",
    "full_data.age = preprocessing.scale(full_data.age)\n",
    "\n",
    "# Label Encoding the text variables\n",
    "le = preprocessing.LabelEncoder()\n",
    "full_data.Residence_type = le.fit_transform(full_data.Residence_type) \n",
    "full_data.ever_married = le.fit_transform(full_data.ever_married) \n",
    "full_data.Person = le.fit_transform(full_data.Person) \n",
    "full_data.smoking_status = le.fit_transform(full_data.smoking_status) \n",
    "full_data.work_type = le.fit_transform(full_data.work_type) \n",
    "\n",
    "# Making the variables categorical, except Age\n",
    "full_data.Residence_type = full_data.Residence_type.astype('category') \n",
    "full_data.ever_married = full_data.ever_married.astype('category')\n",
    "full_data.Person = full_data.Person.astype('category')\n",
    "full_data.smoking_status = full_data.smoking_status.astype('category')\n",
    "full_data.work_type = full_data.work_type.astype('category')\n",
    "\n",
    "full_data.heart_disease = full_data.heart_disease.astype('category')\n",
    "full_data.hypertension = full_data.hypertension.astype('category')\n",
    "\n",
    "full_data =  pd.get_dummies(full_data,columns = ['bmi_bin','avg_glucose_level_bin','heart_disease','hypertension']) \n"
   ]
  },
  {
   "cell_type": "markdown",
   "metadata": {},
   "source": [
    "### Split the combined data into train and test "
   ]
  },
  {
   "cell_type": "code",
   "execution_count": 285,
   "metadata": {
    "collapsed": true
   },
   "outputs": [],
   "source": [
    "#=================================================================================#\n",
    "# Split the combined data into train and test\n",
    "#train = full_data[0:len(train_data)]\n",
    "train = full_data[full_data.source == 'train']\n",
    "train_y = train['stroke'].astype('category')\n",
    "\n",
    "train_x = train.drop(['id', 'gender','stroke','bmi','avg_glucose_level','source'], axis=1)\n",
    "\n",
    "#test = full_data[len(train_data):]\n",
    "test = full_data[full_data.source == 'test']\n",
    "test_x = test.drop(['id', 'gender','stroke','bmi','avg_glucose_level','source'], axis=1)"
   ]
  },
  {
   "cell_type": "markdown",
   "metadata": {},
   "source": [
    "### Model"
   ]
  },
  {
   "cell_type": "code",
   "execution_count": 286,
   "metadata": {},
   "outputs": [
    {
     "data": {
      "text/plain": [
       "\"import sys\\nsys.path.append('c:\\\\installations\\\\anaconda\\\\lib\\\\site-packages')\\nprint(sys.path)\\n\""
      ]
     },
     "execution_count": 286,
     "metadata": {},
     "output_type": "execute_result"
    }
   ],
   "source": [
    "'''import sys\n",
    "sys.path.append('c:\\\\installations\\\\anaconda\\\\lib\\\\site-packages')\n",
    "print(sys.path)\n",
    "'''"
   ]
  },
  {
   "cell_type": "code",
   "execution_count": 293,
   "metadata": {},
   "outputs": [],
   "source": [
    "import numpy as np\n",
    "import keras\n",
    "from keras.optimizers import Adam, SGD\n",
    "from keras.models import Sequential\n",
    "from keras.layers import Dense,Dropout,Flatten\n",
    "from keras.regularizers import l2\n",
    "import matplotlib.pyplot as plt\n",
    "%matplotlib inline"
   ]
  },
  {
   "cell_type": "code",
   "execution_count": 294,
   "metadata": {},
   "outputs": [],
   "source": [
    "# Model of Keras + Tensorflow \n",
    "# fix random seed for reproducibility\n",
    "seed = 7\n",
    "np.random.seed(seed)\n",
    "\n",
    "# Dataset is highly imbalanced, used class weight\n",
    "from sklearn.utils import class_weight\n",
    "class_weight = class_weight.compute_class_weight('balanced', np.unique(train_y), train_y)\n",
    "class_weight = dict(enumerate(class_weight))\n",
    "\n",
    "# Set hyperparameters\n",
    "batch_size = 100\n",
    "epochs = 100\n",
    "\n",
    "# timebased learning decay\n",
    "learning_rate = 0.1\n",
    "decay_rate = learning_rate / epochs\n",
    "optimizer = Adam(lr=learning_rate, decay=decay_rate)\n"
   ]
  },
  {
   "cell_type": "code",
   "execution_count": 296,
   "metadata": {},
   "outputs": [
    {
     "name": "stdout",
     "output_type": "stream",
     "text": [
      "Train on 29077 samples, validate on 14323 samples\n",
      "Epoch 1/100\n",
      "29077/29077 [==============================] - 1s 31us/step - loss: 0.6874 - acc: 0.5405 - val_loss: 0.7092 - val_acc: 0.9812\n",
      "Epoch 2/100\n",
      "29077/29077 [==============================] - 1s 19us/step - loss: 0.6861 - acc: 0.9824 - val_loss: 0.7085 - val_acc: 0.9812\n",
      "Epoch 3/100\n",
      "29077/29077 [==============================] - 1s 20us/step - loss: 0.6861 - acc: 0.9824 - val_loss: 0.7082 - val_acc: 0.9812\n",
      "Epoch 4/100\n",
      "29077/29077 [==============================] - 1s 23us/step - loss: 0.6861 - acc: 0.8006 - val_loss: 0.7079 - val_acc: 0.0188\n",
      "Epoch 5/100\n",
      "29077/29077 [==============================] - 1s 23us/step - loss: 0.6861 - acc: 0.9590 - val_loss: 0.7081 - val_acc: 0.9812\n",
      "Epoch 6/100\n",
      "29077/29077 [==============================] - 1s 23us/step - loss: 0.6860 - acc: 0.9723 - val_loss: 0.7080 - val_acc: 0.0188\n",
      "Epoch 7/100\n",
      "29077/29077 [==============================] - 1s 22us/step - loss: 0.6861 - acc: 0.9184 - val_loss: 0.7081 - val_acc: 0.9812\n",
      "Epoch 8/100\n",
      "29077/29077 [==============================] - 1s 20us/step - loss: 0.6861 - acc: 0.9186 - val_loss: 0.7082 - val_acc: 0.9812\n",
      "Epoch 9/100\n",
      "29077/29077 [==============================] - 1s 21us/step - loss: 0.6860 - acc: 0.6998 - val_loss: 0.7083 - val_acc: 0.9812\n",
      "Epoch 10/100\n",
      "29077/29077 [==============================] - 1s 22us/step - loss: 0.6861 - acc: 0.9824 - val_loss: 0.7083 - val_acc: 0.9812\n",
      "Epoch 11/100\n",
      "29077/29077 [==============================] - 1s 21us/step - loss: 0.6860 - acc: 0.9824 - val_loss: 0.7082 - val_acc: 0.9812\n",
      "Epoch 12/100\n",
      "29077/29077 [==============================] - 1s 23us/step - loss: 0.6860 - acc: 0.9824 - val_loss: 0.7083 - val_acc: 0.9812\n",
      "Epoch 13/100\n",
      "29077/29077 [==============================] - 1s 22us/step - loss: 0.6860 - acc: 0.6207 - val_loss: 0.7087 - val_acc: 0.9812\n",
      "Epoch 14/100\n",
      "29077/29077 [==============================] - 1s 22us/step - loss: 0.6860 - acc: 0.9824 - val_loss: 0.7083 - val_acc: 0.9812\n",
      "Epoch 15/100\n",
      "29077/29077 [==============================] - 1s 22us/step - loss: 0.6860 - acc: 0.9824 - val_loss: 0.7081 - val_acc: 0.9812\n",
      "Epoch 16/100\n",
      "29077/29077 [==============================] - 1s 22us/step - loss: 0.6859 - acc: 0.9824 - val_loss: 0.7084 - val_acc: 0.9812\n",
      "Epoch 17/100\n",
      "29077/29077 [==============================] - 1s 22us/step - loss: 0.6859 - acc: 0.9824 - val_loss: 0.7082 - val_acc: 0.9812\n",
      "Epoch 18/100\n",
      "29077/29077 [==============================] - 1s 22us/step - loss: 0.6860 - acc: 0.7130 - val_loss: 0.7083 - val_acc: 0.9812\n",
      "Epoch 19/100\n",
      "29077/29077 [==============================] - 1s 21us/step - loss: 0.6859 - acc: 0.9824 - val_loss: 0.7084 - val_acc: 0.9812\n",
      "Epoch 20/100\n",
      "29077/29077 [==============================] - 1s 20us/step - loss: 0.6859 - acc: 0.9824 - val_loss: 0.7083 - val_acc: 0.9812\n",
      "Epoch 21/100\n",
      "29077/29077 [==============================] - 1s 19us/step - loss: 0.6859 - acc: 0.8655 - val_loss: 0.7085 - val_acc: 0.9812\n",
      "Epoch 22/100\n",
      "29077/29077 [==============================] - 1s 19us/step - loss: 0.6860 - acc: 0.8361 - val_loss: 0.7086 - val_acc: 0.9812\n",
      "Epoch 23/100\n",
      "29077/29077 [==============================] - 1s 19us/step - loss: 0.6861 - acc: 0.8327 - val_loss: 0.7082 - val_acc: 0.9812\n",
      "Epoch 24/100\n",
      "29077/29077 [==============================] - 1s 19us/step - loss: 0.6860 - acc: 0.9824 - val_loss: 0.7081 - val_acc: 0.9812\n",
      "Epoch 25/100\n",
      "29077/29077 [==============================] - 1s 21us/step - loss: 0.6859 - acc: 0.7294 - val_loss: 0.7084 - val_acc: 0.9812\n",
      "Epoch 26/100\n",
      "29077/29077 [==============================] - 1s 21us/step - loss: 0.6860 - acc: 0.9824 - val_loss: 0.7082 - val_acc: 0.9812\n",
      "Epoch 27/100\n",
      "29077/29077 [==============================] - 1s 19us/step - loss: 0.6859 - acc: 0.9824 - val_loss: 0.7083 - val_acc: 0.9812\n",
      "Epoch 28/100\n",
      "29077/29077 [==============================] - 1s 19us/step - loss: 0.6859 - acc: 0.9824 - val_loss: 0.7081 - val_acc: 0.9812\n",
      "Epoch 29/100\n",
      "29077/29077 [==============================] - 1s 19us/step - loss: 0.6860 - acc: 0.5504 - val_loss: 0.7084 - val_acc: 0.9812\n",
      "Epoch 30/100\n",
      "29077/29077 [==============================] - 1s 22us/step - loss: 0.6860 - acc: 0.9824 - val_loss: 0.7083 - val_acc: 0.9812\n",
      "Epoch 31/100\n",
      "29077/29077 [==============================] - 1s 19us/step - loss: 0.6860 - acc: 0.9824 - val_loss: 0.7084 - val_acc: 0.9812\n",
      "Epoch 32/100\n",
      "29077/29077 [==============================] - 1s 19us/step - loss: 0.6859 - acc: 0.9824 - val_loss: 0.7083 - val_acc: 0.9812\n",
      "Epoch 33/100\n",
      "29077/29077 [==============================] - 1s 23us/step - loss: 0.6861 - acc: 0.9824 - val_loss: 0.7082 - val_acc: 0.9812\n",
      "Epoch 34/100\n",
      "29077/29077 [==============================] - 1s 22us/step - loss: 0.6861 - acc: 0.9824 - val_loss: 0.7082 - val_acc: 0.9812\n",
      "Epoch 35/100\n",
      "29077/29077 [==============================] - 1s 20us/step - loss: 0.6859 - acc: 0.7423 - val_loss: 0.7083 - val_acc: 0.9812\n",
      "Epoch 36/100\n",
      "29077/29077 [==============================] - 1s 19us/step - loss: 0.6861 - acc: 0.9824 - val_loss: 0.7082 - val_acc: 0.9812\n",
      "Epoch 37/100\n",
      "29077/29077 [==============================] - 1s 21us/step - loss: 0.6860 - acc: 0.9824 - val_loss: 0.7082 - val_acc: 0.9812\n",
      "Epoch 38/100\n",
      "29077/29077 [==============================] - 1s 19us/step - loss: 0.6860 - acc: 0.9824 - val_loss: 0.7082 - val_acc: 0.9812\n",
      "Epoch 39/100\n",
      "29077/29077 [==============================] - 1s 20us/step - loss: 0.6859 - acc: 0.8191 - val_loss: 0.7083 - val_acc: 0.9812\n",
      "Epoch 40/100\n",
      "29077/29077 [==============================] - 1s 21us/step - loss: 0.6859 - acc: 0.8395 - val_loss: 0.7084 - val_acc: 0.9812\n",
      "Epoch 41/100\n",
      "29077/29077 [==============================] - 1s 19us/step - loss: 0.6859 - acc: 0.9824 - val_loss: 0.7084 - val_acc: 0.9812\n",
      "Epoch 42/100\n",
      "29077/29077 [==============================] - 1s 19us/step - loss: 0.6859 - acc: 0.9824 - val_loss: 0.7081 - val_acc: 0.9812\n",
      "Epoch 43/100\n",
      "29077/29077 [==============================] - 1s 19us/step - loss: 0.6860 - acc: 0.8219 - val_loss: 0.7083 - val_acc: 0.9812\n",
      "Epoch 44/100\n",
      "29077/29077 [==============================] - 1s 19us/step - loss: 0.6859 - acc: 0.9824 - val_loss: 0.7082 - val_acc: 0.9812\n",
      "Epoch 45/100\n",
      "29077/29077 [==============================] - 1s 18us/step - loss: 0.6859 - acc: 0.9824 - val_loss: 0.7081 - val_acc: 0.9812\n",
      "Epoch 46/100\n",
      "29077/29077 [==============================] - 1s 19us/step - loss: 0.6860 - acc: 0.7292 - val_loss: 0.7083 - val_acc: 0.9812\n",
      "Epoch 47/100\n",
      "29077/29077 [==============================] - 1s 20us/step - loss: 0.6859 - acc: 0.9824 - val_loss: 0.7081 - val_acc: 0.9812\n",
      "Epoch 48/100\n",
      "29077/29077 [==============================] - 1s 19us/step - loss: 0.6860 - acc: 0.7898 - val_loss: 0.7084 - val_acc: 0.9812\n",
      "Epoch 49/100\n",
      "29077/29077 [==============================] - 1s 20us/step - loss: 0.6859 - acc: 0.9824 - val_loss: 0.7083 - val_acc: 0.9812\n",
      "Epoch 50/100\n",
      "29077/29077 [==============================] - 1s 20us/step - loss: 0.6859 - acc: 0.9824 - val_loss: 0.7083 - val_acc: 0.9812\n",
      "Epoch 51/100\n",
      "29077/29077 [==============================] - 1s 20us/step - loss: 0.6859 - acc: 0.7662 - val_loss: 0.7084 - val_acc: 0.9812\n",
      "Epoch 52/100\n",
      "29077/29077 [==============================] - 1s 19us/step - loss: 0.6859 - acc: 0.9824 - val_loss: 0.7084 - val_acc: 0.9812\n",
      "Epoch 53/100\n",
      "29077/29077 [==============================] - 1s 19us/step - loss: 0.6859 - acc: 0.9824 - val_loss: 0.7083 - val_acc: 0.9812\n",
      "Epoch 54/100\n",
      "29077/29077 [==============================] - 1s 20us/step - loss: 0.6859 - acc: 0.8758 - val_loss: 0.7084 - val_acc: 0.9812\n",
      "Epoch 55/100\n",
      "29077/29077 [==============================] - 1s 19us/step - loss: 0.6859 - acc: 0.9824 - val_loss: 0.7083 - val_acc: 0.9812\n",
      "Epoch 56/100\n",
      "29077/29077 [==============================] - 1s 19us/step - loss: 0.6860 - acc: 0.7996 - val_loss: 0.7084 - val_acc: 0.9812\n",
      "Epoch 57/100\n",
      "29077/29077 [==============================] - 1s 19us/step - loss: 0.6860 - acc: 0.9824 - val_loss: 0.7083 - val_acc: 0.9812\n",
      "Epoch 58/100\n",
      "29077/29077 [==============================] - 1s 19us/step - loss: 0.6859 - acc: 0.9824 - val_loss: 0.7082 - val_acc: 0.9812\n",
      "Epoch 59/100\n"
     ]
    },
    {
     "name": "stdout",
     "output_type": "stream",
     "text": [
      "29077/29077 [==============================] - 1s 20us/step - loss: 0.6859 - acc: 0.9824 - val_loss: 0.7084 - val_acc: 0.9812\n",
      "Epoch 60/100\n",
      "29077/29077 [==============================] - 1s 19us/step - loss: 0.6859 - acc: 0.9824 - val_loss: 0.7084 - val_acc: 0.9812\n",
      "Epoch 61/100\n",
      "29077/29077 [==============================] - 1s 19us/step - loss: 0.6859 - acc: 0.6307 - val_loss: 0.7086 - val_acc: 0.9812\n",
      "Epoch 62/100\n",
      "29077/29077 [==============================] - 1s 19us/step - loss: 0.6859 - acc: 0.9824 - val_loss: 0.7084 - val_acc: 0.9812\n",
      "Epoch 63/100\n",
      "29077/29077 [==============================] - 1s 18us/step - loss: 0.6859 - acc: 0.9824 - val_loss: 0.7083 - val_acc: 0.9812\n",
      "Epoch 64/100\n",
      "29077/29077 [==============================] - 1s 20us/step - loss: 0.6859 - acc: 0.9422 - val_loss: 0.7084 - val_acc: 0.9812\n",
      "Epoch 65/100\n",
      "29077/29077 [==============================] - 1s 20us/step - loss: 0.6860 - acc: 0.8822 - val_loss: 0.7085 - val_acc: 0.9812\n",
      "Epoch 66/100\n",
      "29077/29077 [==============================] - 1s 21us/step - loss: 0.6860 - acc: 0.9824 - val_loss: 0.7085 - val_acc: 0.9812\n",
      "Epoch 67/100\n",
      "29077/29077 [==============================] - 1s 20us/step - loss: 0.6859 - acc: 0.9824 - val_loss: 0.7083 - val_acc: 0.9812\n",
      "Epoch 68/100\n",
      "29077/29077 [==============================] - 1s 19us/step - loss: 0.6859 - acc: 0.9223 - val_loss: 0.7085 - val_acc: 0.9812\n",
      "Epoch 69/100\n",
      "29077/29077 [==============================] - 1s 19us/step - loss: 0.6859 - acc: 0.9824 - val_loss: 0.7084 - val_acc: 0.9812\n",
      "Epoch 70/100\n",
      "29077/29077 [==============================] - 1s 19us/step - loss: 0.6859 - acc: 0.9824 - val_loss: 0.7083 - val_acc: 0.9812\n",
      "Epoch 71/100\n",
      "29077/29077 [==============================] - 1s 19us/step - loss: 0.6860 - acc: 0.3351 - val_loss: 0.7085 - val_acc: 0.9812\n",
      "Epoch 72/100\n",
      "29077/29077 [==============================] - 1s 19us/step - loss: 0.6860 - acc: 0.9824 - val_loss: 0.7085 - val_acc: 0.9812\n",
      "Epoch 73/100\n",
      "29077/29077 [==============================] - 1s 18us/step - loss: 0.6860 - acc: 0.8287 - val_loss: 0.7084 - val_acc: 0.9812\n",
      "Epoch 74/100\n",
      "29077/29077 [==============================] - 1s 18us/step - loss: 0.6859 - acc: 0.9824 - val_loss: 0.7084 - val_acc: 0.9812\n",
      "Epoch 75/100\n",
      "29077/29077 [==============================] - 1s 18us/step - loss: 0.6859 - acc: 0.9824 - val_loss: 0.7083 - val_acc: 0.9812\n",
      "Epoch 76/100\n",
      "29077/29077 [==============================] - 1s 19us/step - loss: 0.6859 - acc: 0.9824 - val_loss: 0.7081 - val_acc: 0.9812\n",
      "Epoch 77/100\n",
      "29077/29077 [==============================] - 1s 18us/step - loss: 0.6859 - acc: 0.9824 - val_loss: 0.7081 - val_acc: 0.9812\n",
      "Epoch 78/100\n",
      "29077/29077 [==============================] - 1s 18us/step - loss: 0.6859 - acc: 0.9824 - val_loss: 0.7082 - val_acc: 0.9812\n",
      "Epoch 79/100\n",
      "29077/29077 [==============================] - 1s 20us/step - loss: 0.6859 - acc: 0.9824 - val_loss: 0.7082 - val_acc: 0.9812\n",
      "Epoch 80/100\n",
      "29077/29077 [==============================] - 1s 19us/step - loss: 0.6859 - acc: 0.9824 - val_loss: 0.7082 - val_acc: 0.9812\n",
      "Epoch 81/100\n",
      "29077/29077 [==============================] - 1s 19us/step - loss: 0.6859 - acc: 0.9389 - val_loss: 0.7083 - val_acc: 0.9812\n",
      "Epoch 82/100\n",
      "29077/29077 [==============================] - 1s 18us/step - loss: 0.6859 - acc: 0.8952 - val_loss: 0.7082 - val_acc: 0.9812\n",
      "Epoch 83/100\n",
      "29077/29077 [==============================] - 1s 19us/step - loss: 0.6859 - acc: 0.9824 - val_loss: 0.7084 - val_acc: 0.9812\n",
      "Epoch 84/100\n",
      "29077/29077 [==============================] - 1s 19us/step - loss: 0.6859 - acc: 0.9824 - val_loss: 0.7084 - val_acc: 0.9812\n",
      "Epoch 85/100\n",
      "29077/29077 [==============================] - 1s 19us/step - loss: 0.6859 - acc: 0.9824 - val_loss: 0.7083 - val_acc: 0.9812\n",
      "Epoch 86/100\n",
      "29077/29077 [==============================] - 1s 18us/step - loss: 0.6859 - acc: 0.9824 - val_loss: 0.7082 - val_acc: 0.9812\n",
      "Epoch 87/100\n",
      "29077/29077 [==============================] - 1s 18us/step - loss: 0.6860 - acc: 0.9824 - val_loss: 0.7083 - val_acc: 0.9812\n",
      "Epoch 88/100\n",
      "29077/29077 [==============================] - 1s 19us/step - loss: 0.6859 - acc: 0.9824 - val_loss: 0.7083 - val_acc: 0.9812\n",
      "Epoch 89/100\n",
      "29077/29077 [==============================] - 1s 19us/step - loss: 0.6859 - acc: 0.9824 - val_loss: 0.7084 - val_acc: 0.9812\n",
      "Epoch 90/100\n",
      "29077/29077 [==============================] - 1s 19us/step - loss: 0.6860 - acc: 0.9824 - val_loss: 0.7083 - val_acc: 0.9812\n",
      "Epoch 91/100\n",
      "29077/29077 [==============================] - 1s 18us/step - loss: 0.6859 - acc: 0.7465 - val_loss: 0.7083 - val_acc: 0.9812\n",
      "Epoch 92/100\n",
      "29077/29077 [==============================] - 1s 19us/step - loss: 0.6860 - acc: 0.9824 - val_loss: 0.7084 - val_acc: 0.9812\n",
      "Epoch 93/100\n",
      "29077/29077 [==============================] - 1s 18us/step - loss: 0.6859 - acc: 0.9824 - val_loss: 0.7082 - val_acc: 0.9812\n",
      "Epoch 94/100\n",
      "29077/29077 [==============================] - 1s 18us/step - loss: 0.6859 - acc: 0.9824 - val_loss: 0.7083 - val_acc: 0.9812\n",
      "Epoch 95/100\n",
      "29077/29077 [==============================] - 1s 18us/step - loss: 0.6859 - acc: 0.9824 - val_loss: 0.7083 - val_acc: 0.9812\n",
      "Epoch 96/100\n",
      "29077/29077 [==============================] - 1s 18us/step - loss: 0.6859 - acc: 0.9824 - val_loss: 0.7083 - val_acc: 0.9812\n",
      "Epoch 97/100\n",
      "29077/29077 [==============================] - 1s 19us/step - loss: 0.6860 - acc: 0.9824 - val_loss: 0.7084 - val_acc: 0.9812\n",
      "Epoch 98/100\n",
      "29077/29077 [==============================] - 1s 19us/step - loss: 0.6859 - acc: 0.9824 - val_loss: 0.7082 - val_acc: 0.9812\n",
      "Epoch 99/100\n",
      "29077/29077 [==============================] - 1s 18us/step - loss: 0.6859 - acc: 0.9824 - val_loss: 0.7083 - val_acc: 0.9812\n",
      "Epoch 100/100\n",
      "29077/29077 [==============================] - 1s 18us/step - loss: 0.6860 - acc: 0.9824 - val_loss: 0.7083 - val_acc: 0.9812\n"
     ]
    },
    {
     "data": {
      "image/png": "[encoded data removed]",
      "text/plain": [
       "<matplotlib.figure.Figure at 0x268f1ad47f0>"
      ]
     },
     "metadata": {},
     "output_type": "display_data"
    },
    {
     "name": "stdout",
     "output_type": "stream",
     "text": [
      "<keras.callbacks.History object at 0x00000268F7274470>\n"
     ]
    }
   ],
   "source": [
    "\n",
    "# create model             \n",
    "model = Sequential()\n",
    "model.add(Dense(64, input_dim=len(train_x.columns), activation='relu',kernel_regularizer=l2(0.01),\n",
    "                kernel_initializer = 'random_uniform'))\n",
    "\n",
    "model.add(Dense(64, activation='relu',kernel_regularizer=l2(0.01),\n",
    "                kernel_initializer = 'random_uniform'))\n",
    "\n",
    "model.add(Dense(1, activation='sigmoid',kernel_regularizer=l2(0.01),\n",
    "                kernel_initializer = 'random_uniform'))\n",
    "\n",
    "\n",
    "# Compile model\n",
    "model.compile(loss='binary_crossentropy', optimizer=optimizer, metrics=['accuracy'])\n",
    "\n",
    "# Fit the model with train:validation (67:33)\n",
    "hist = model.fit(train_x, train_y, validation_split=0.33, epochs=epochs, batch_size=batch_size, \n",
    "                 class_weight = class_weight)\n",
    "\n",
    "# summarize history for loss\n",
    "plt.plot(hist.history[\"loss\"])\n",
    "plt.plot(hist.history[\"val_loss\"])\n",
    "plt.title(\"model loss\")\n",
    "plt.ylabel(\"loss\")\n",
    "plt.xlabel(\"epoch\")\n",
    "plt.legend([\"train\", \"val\"], loc=\"upper left\")\n",
    "plt.show()\n",
    "\n",
    "print(hist)"
   ]
  },
  {
   "cell_type": "code",
   "execution_count": 298,
   "metadata": {},
   "outputs": [
    {
     "name": "stdout",
     "output_type": "stream",
     "text": [
      "Accuracy is 0.9820\n",
      "========================\n",
      "\n",
      " Confusion Matrix\n",
      " [[42619     0]\n",
      " [  781     0]]\n",
      "========================\n",
      "\n",
      " Misclassficiation Report\n",
      "              precision    recall  f1-score   support\n",
      "\n",
      "        0.0       0.98      1.00      0.99     42619\n",
      "        1.0       0.00      0.00      0.00       781\n",
      "\n",
      "avg / total       0.96      0.98      0.97     43400\n",
      "\n",
      "========================\n"
     ]
    },
    {
     "name": "stderr",
     "output_type": "stream",
     "text": [
      "C:\\Program Files (x86)\\Microsoft Visual Studio\\Shared\\Anaconda3_64\\lib\\site-packages\\sklearn\\metrics\\classification.py:1135: UndefinedMetricWarning: Precision and F-score are ill-defined and being set to 0.0 in labels with no predicted samples.\n",
      "  'precision', 'predicted', average, warn_for)\n"
     ]
    }
   ],
   "source": [
    "# predict on train_x to see the results and accuracy\n",
    "# Metrics\n",
    "from sklearn import metrics\n",
    "def my_metrics(y_true,y_pred):\n",
    "    print(\"Accuracy is %.4f\" %metrics.accuracy_score(y_true,y_pred))\n",
    "    print(\"========================\")\n",
    "    print(\"\\n Confusion Matrix\\n\", metrics.confusion_matrix(y_true,y_pred) )\n",
    "    print(\"========================\")\n",
    "    print(\"\\n Misclassficiation Report\\n\", metrics.classification_report(y_true,y_pred))\n",
    "    print(\"========================\")\n",
    "\n",
    "    \n",
    "y_pred = model.predict_classes(train_x) \n",
    "my_metrics(train_y,y_pred)"
   ]
  },
  {
   "cell_type": "markdown",
   "metadata": {},
   "source": [
    "### Train the Model on all training data"
   ]
  },
  {
   "cell_type": "code",
   "execution_count": 199,
   "metadata": {
    "scrolled": false
   },
   "outputs": [
    {
     "name": "stdout",
     "output_type": "stream",
     "text": [
      "Epoch 1/100\n",
      "43400/43400 [==============================] - 1s 16us/step - loss: 0.5055 - acc: 0.7389\n",
      "Epoch 2/100\n",
      "43400/43400 [==============================] - 1s 16us/step - loss: 0.5058 - acc: 0.7407\n",
      "Epoch 3/100\n",
      "43400/43400 [==============================] - 1s 16us/step - loss: 0.5049 - acc: 0.7354\n",
      "Epoch 4/100\n",
      "43400/43400 [==============================] - 1s 16us/step - loss: 0.5055 - acc: 0.7416\n",
      "Epoch 5/100\n",
      "43400/43400 [==============================] - 1s 15us/step - loss: 0.5054 - acc: 0.7390\n",
      "Epoch 6/100\n",
      "43400/43400 [==============================] - 1s 15us/step - loss: 0.5052 - acc: 0.7440\n",
      "Epoch 7/100\n",
      "43400/43400 [==============================] - 1s 15us/step - loss: 0.5052 - acc: 0.7325\n",
      "Epoch 8/100\n",
      "43400/43400 [==============================] - 1s 16us/step - loss: 0.5054 - acc: 0.7391\n",
      "Epoch 9/100\n",
      "43400/43400 [==============================] - 1s 16us/step - loss: 0.5053 - acc: 0.7382\n",
      "Epoch 10/100\n",
      "43400/43400 [==============================] - 1s 16us/step - loss: 0.5054 - acc: 0.7434\n",
      "Epoch 11/100\n",
      "43400/43400 [==============================] - 1s 16us/step - loss: 0.5049 - acc: 0.7369\n",
      "Epoch 12/100\n",
      "43400/43400 [==============================] - 1s 16us/step - loss: 0.5045 - acc: 0.7399\n",
      "Epoch 13/100\n",
      "43400/43400 [==============================] - 1s 16us/step - loss: 0.5055 - acc: 0.7386\n",
      "Epoch 14/100\n",
      "43400/43400 [==============================] - 1s 16us/step - loss: 0.5056 - acc: 0.7405\n",
      "Epoch 15/100\n",
      "43400/43400 [==============================] - 1s 16us/step - loss: 0.5054 - acc: 0.7363\n",
      "Epoch 16/100\n",
      "43400/43400 [==============================] - 1s 16us/step - loss: 0.5055 - acc: 0.7414\n",
      "Epoch 17/100\n",
      "43400/43400 [==============================] - 1s 16us/step - loss: 0.5053 - acc: 0.7365\n",
      "Epoch 18/100\n",
      "43400/43400 [==============================] - 1s 16us/step - loss: 0.5054 - acc: 0.7392\n",
      "Epoch 19/100\n",
      "43400/43400 [==============================] - 1s 16us/step - loss: 0.5052 - acc: 0.7399\n",
      "Epoch 20/100\n",
      "43400/43400 [==============================] - 1s 16us/step - loss: 0.5046 - acc: 0.7356\n",
      "Epoch 21/100\n",
      "43400/43400 [==============================] - 1s 15us/step - loss: 0.5054 - acc: 0.7443\n",
      "Epoch 22/100\n",
      "43400/43400 [==============================] - 1s 15us/step - loss: 0.5052 - acc: 0.7358\n",
      "Epoch 23/100\n",
      "43400/43400 [==============================] - 1s 15us/step - loss: 0.5051 - acc: 0.7377\n",
      "Epoch 24/100\n",
      "43400/43400 [==============================] - 1s 15us/step - loss: 0.5054 - acc: 0.7413\n",
      "Epoch 25/100\n",
      "43400/43400 [==============================] - 1s 15us/step - loss: 0.5056 - acc: 0.7382\n",
      "Epoch 26/100\n",
      "43400/43400 [==============================] - 1s 14us/step - loss: 0.5053 - acc: 0.7390\n",
      "Epoch 27/100\n",
      "43400/43400 [==============================] - 1s 14us/step - loss: 0.5050 - acc: 0.7377\n",
      "Epoch 28/100\n",
      "43400/43400 [==============================] - 1s 14us/step - loss: 0.5055 - acc: 0.7393\n",
      "Epoch 29/100\n",
      "43400/43400 [==============================] - 1s 14us/step - loss: 0.5055 - acc: 0.7454\n",
      "Epoch 30/100\n",
      "43400/43400 [==============================] - 1s 17us/step - loss: 0.5051 - acc: 0.7350\n",
      "Epoch 31/100\n",
      "43400/43400 [==============================] - 1s 18us/step - loss: 0.5053 - acc: 0.7385\n",
      "Epoch 32/100\n",
      "43400/43400 [==============================] - 1s 15us/step - loss: 0.5054 - acc: 0.7399\n",
      "Epoch 33/100\n",
      "43400/43400 [==============================] - 1s 16us/step - loss: 0.5052 - acc: 0.7394\n",
      "Epoch 34/100\n",
      "43400/43400 [==============================] - 1s 16us/step - loss: 0.5052 - acc: 0.7384\n",
      "Epoch 35/100\n",
      "43400/43400 [==============================] - 1s 17us/step - loss: 0.5049 - acc: 0.7378\n",
      "Epoch 36/100\n",
      "43400/43400 [==============================] - 1s 18us/step - loss: 0.5055 - acc: 0.7382\n",
      "Epoch 37/100\n",
      "43400/43400 [==============================] - 1s 17us/step - loss: 0.5055 - acc: 0.7405\n",
      "Epoch 38/100\n",
      "43400/43400 [==============================] - 1s 16us/step - loss: 0.5054 - acc: 0.7405\n",
      "Epoch 39/100\n",
      "43400/43400 [==============================] - 1s 15us/step - loss: 0.5048 - acc: 0.7393\n",
      "Epoch 40/100\n",
      "43400/43400 [==============================] - 1s 15us/step - loss: 0.5052 - acc: 0.7354\n",
      "Epoch 41/100\n",
      "43400/43400 [==============================] - 1s 14us/step - loss: 0.5055 - acc: 0.7412\n",
      "Epoch 42/100\n",
      "43400/43400 [==============================] - 1s 15us/step - loss: 0.5051 - acc: 0.7418\n",
      "Epoch 43/100\n",
      "43400/43400 [==============================] - 1s 15us/step - loss: 0.5052 - acc: 0.7402\n",
      "Epoch 44/100\n",
      "43400/43400 [==============================] - 1s 15us/step - loss: 0.5054 - acc: 0.7377\n",
      "Epoch 45/100\n",
      "43400/43400 [==============================] - 1s 15us/step - loss: 0.5052 - acc: 0.7374\n",
      "Epoch 46/100\n",
      "43400/43400 [==============================] - 1s 15us/step - loss: 0.5050 - acc: 0.7429\n",
      "Epoch 47/100\n",
      "43400/43400 [==============================] - 1s 16us/step - loss: 0.5053 - acc: 0.7401\n",
      "Epoch 48/100\n",
      "43400/43400 [==============================] - 1s 18us/step - loss: 0.5055 - acc: 0.7365\n",
      "Epoch 49/100\n",
      "43400/43400 [==============================] - 1s 16us/step - loss: 0.5050 - acc: 0.7346\n",
      "Epoch 50/100\n",
      "43400/43400 [==============================] - 1s 15us/step - loss: 0.5051 - acc: 0.7428\n",
      "Epoch 51/100\n",
      "43400/43400 [==============================] - 1s 15us/step - loss: 0.5046 - acc: 0.7404\n",
      "Epoch 52/100\n",
      "43400/43400 [==============================] - 1s 16us/step - loss: 0.5050 - acc: 0.7381\n",
      "Epoch 53/100\n",
      "43400/43400 [==============================] - 1s 17us/step - loss: 0.5053 - acc: 0.7373\n",
      "Epoch 54/100\n",
      "43400/43400 [==============================] - 1s 17us/step - loss: 0.5051 - acc: 0.7408\n",
      "Epoch 55/100\n",
      "43400/43400 [==============================] - 1s 16us/step - loss: 0.5054 - acc: 0.7382\n",
      "Epoch 56/100\n",
      "43400/43400 [==============================] - 1s 16us/step - loss: 0.5051 - acc: 0.7381\n",
      "Epoch 57/100\n",
      "43400/43400 [==============================] - 1s 16us/step - loss: 0.5055 - acc: 0.7401\n",
      "Epoch 58/100\n",
      "43400/43400 [==============================] - 1s 15us/step - loss: 0.5051 - acc: 0.7380\n",
      "Epoch 59/100\n",
      "43400/43400 [==============================] - 1s 16us/step - loss: 0.5052 - acc: 0.7364\n",
      "Epoch 60/100\n",
      "43400/43400 [==============================] - 1s 16us/step - loss: 0.5052 - acc: 0.7403\n",
      "Epoch 61/100\n",
      "43400/43400 [==============================] - 1s 16us/step - loss: 0.5051 - acc: 0.7423\n",
      "Epoch 62/100\n",
      "43400/43400 [==============================] - 1s 16us/step - loss: 0.5051 - acc: 0.7410\n",
      "Epoch 63/100\n",
      "43400/43400 [==============================] - 1s 16us/step - loss: 0.5056 - acc: 0.7314\n",
      "Epoch 64/100\n",
      "43400/43400 [==============================] - 1s 15us/step - loss: 0.5052 - acc: 0.7413\n",
      "Epoch 65/100\n",
      "43400/43400 [==============================] - 1s 16us/step - loss: 0.5051 - acc: 0.7379\n",
      "Epoch 66/100\n",
      "43400/43400 [==============================] - 1s 15us/step - loss: 0.5055 - acc: 0.7406\n",
      "Epoch 67/100\n",
      "43400/43400 [==============================] - 1s 15us/step - loss: 0.5051 - acc: 0.7432\n",
      "Epoch 68/100\n",
      "43400/43400 [==============================] - 1s 15us/step - loss: 0.5053 - acc: 0.7371\n",
      "Epoch 69/100\n",
      "43400/43400 [==============================] - 1s 15us/step - loss: 0.5053 - acc: 0.7376\n",
      "Epoch 70/100\n",
      "43400/43400 [==============================] - 1s 15us/step - loss: 0.5052 - acc: 0.7386\n",
      "Epoch 71/100\n",
      "43400/43400 [==============================] - 1s 15us/step - loss: 0.5052 - acc: 0.7380\n",
      "Epoch 72/100\n",
      "43400/43400 [==============================] - 1s 15us/step - loss: 0.5052 - acc: 0.7435\n",
      "Epoch 73/100\n",
      "43400/43400 [==============================] - 1s 15us/step - loss: 0.5050 - acc: 0.7346\n",
      "Epoch 74/100\n",
      "43400/43400 [==============================] - 1s 15us/step - loss: 0.5051 - acc: 0.7405\n",
      "Epoch 75/100\n",
      "43400/43400 [==============================] - 1s 16us/step - loss: 0.5053 - acc: 0.7375\n",
      "Epoch 76/100\n",
      "43400/43400 [==============================] - 1s 16us/step - loss: 0.5052 - acc: 0.7368\n",
      "Epoch 77/100\n",
      "43400/43400 [==============================] - 1s 16us/step - loss: 0.5054 - acc: 0.7412\n",
      "Epoch 78/100\n",
      "43400/43400 [==============================] - 1s 16us/step - loss: 0.5053 - acc: 0.7374\n",
      "Epoch 79/100\n",
      "43400/43400 [==============================] - 1s 15us/step - loss: 0.5055 - acc: 0.7411\n",
      "Epoch 80/100\n",
      "43400/43400 [==============================] - 1s 16us/step - loss: 0.5053 - acc: 0.7366\n",
      "Epoch 81/100\n"
     ]
    },
    {
     "name": "stdout",
     "output_type": "stream",
     "text": [
      "43400/43400 [==============================] - 1s 15us/step - loss: 0.5050 - acc: 0.7382\n",
      "Epoch 82/100\n",
      "43400/43400 [==============================] - 1s 15us/step - loss: 0.5050 - acc: 0.7431\n",
      "Epoch 83/100\n",
      "43400/43400 [==============================] - 1s 15us/step - loss: 0.5052 - acc: 0.7360\n",
      "Epoch 84/100\n",
      "43400/43400 [==============================] - 1s 15us/step - loss: 0.5051 - acc: 0.7402\n",
      "Epoch 85/100\n",
      "43400/43400 [==============================] - 1s 15us/step - loss: 0.5052 - acc: 0.7435\n",
      "Epoch 86/100\n",
      "43400/43400 [==============================] - 1s 14us/step - loss: 0.5055 - acc: 0.7364\n",
      "Epoch 87/100\n",
      "43400/43400 [==============================] - 1s 16us/step - loss: 0.5054 - acc: 0.7380\n",
      "Epoch 88/100\n",
      "43400/43400 [==============================] - 1s 15us/step - loss: 0.5052 - acc: 0.7410\n",
      "Epoch 89/100\n",
      "43400/43400 [==============================] - 1s 15us/step - loss: 0.5051 - acc: 0.7346\n",
      "Epoch 90/100\n",
      "43400/43400 [==============================] - 1s 15us/step - loss: 0.5053 - acc: 0.7385\n",
      "Epoch 91/100\n",
      "43400/43400 [==============================] - 1s 16us/step - loss: 0.5054 - acc: 0.7409\n",
      "Epoch 92/100\n",
      "43400/43400 [==============================] - 1s 15us/step - loss: 0.5053 - acc: 0.7414\n",
      "Epoch 93/100\n",
      "43400/43400 [==============================] - 1s 16us/step - loss: 0.5048 - acc: 0.7407\n",
      "Epoch 94/100\n",
      "43400/43400 [==============================] - 1s 15us/step - loss: 0.5053 - acc: 0.7363\n",
      "Epoch 95/100\n",
      "43400/43400 [==============================] - 1s 14us/step - loss: 0.5051 - acc: 0.7392\n",
      "Epoch 96/100\n",
      "43400/43400 [==============================] - 1s 15us/step - loss: 0.5051 - acc: 0.7375\n",
      "Epoch 97/100\n",
      "43400/43400 [==============================] - 1s 15us/step - loss: 0.5053 - acc: 0.7404\n",
      "Epoch 98/100\n",
      "43400/43400 [==============================] - 1s 15us/step - loss: 0.5052 - acc: 0.7392\n",
      "Epoch 99/100\n",
      "43400/43400 [==============================] - 1s 15us/step - loss: 0.5052 - acc: 0.7399\n",
      "Epoch 100/100\n",
      "43400/43400 [==============================] - 1s 15us/step - loss: 0.5050 - acc: 0.7381\n"
     ]
    },
    {
     "ename": "NameError",
     "evalue": "name 'plt' is not defined",
     "output_type": "error",
     "traceback": [
      "\u001b[1;31m---------------------------------------------------------------------------\u001b[0m",
      "\u001b[1;31mNameError\u001b[0m                                 Traceback (most recent call last)",
      "\u001b[1;32m<ipython-input-199-fa7f1c900e6a>\u001b[0m in \u001b[0;36m<module>\u001b[1;34m()\u001b[0m\n\u001b[0;32m      5\u001b[0m \u001b[1;33m\u001b[0m\u001b[0m\n\u001b[0;32m      6\u001b[0m \u001b[1;31m# summarize history for loss\u001b[0m\u001b[1;33m\u001b[0m\u001b[1;33m\u001b[0m\u001b[0m\n\u001b[1;32m----> 7\u001b[1;33m \u001b[0mplt\u001b[0m\u001b[1;33m.\u001b[0m\u001b[0mplot\u001b[0m\u001b[1;33m(\u001b[0m\u001b[0mhist\u001b[0m\u001b[1;33m.\u001b[0m\u001b[0mhistory\u001b[0m\u001b[1;33m[\u001b[0m\u001b[1;34m\"loss\"\u001b[0m\u001b[1;33m]\u001b[0m\u001b[1;33m)\u001b[0m\u001b[1;33m\u001b[0m\u001b[0m\n\u001b[0m\u001b[0;32m      8\u001b[0m \u001b[1;31m#plt.plot(hist.history[\"val_loss\"])\u001b[0m\u001b[1;33m\u001b[0m\u001b[1;33m\u001b[0m\u001b[0m\n\u001b[0;32m      9\u001b[0m \u001b[0mplt\u001b[0m\u001b[1;33m.\u001b[0m\u001b[0mtitle\u001b[0m\u001b[1;33m(\u001b[0m\u001b[1;34m\"model loss\"\u001b[0m\u001b[1;33m)\u001b[0m\u001b[1;33m\u001b[0m\u001b[0m\n",
      "\u001b[1;31mNameError\u001b[0m: name 'plt' is not defined"
     ]
    }
   ],
   "source": [
    "# Training the entire dataset: Fit the model\n",
    "hist = model.fit(train_x, train_y, epochs=epochs, batch_size=batch_size,\n",
    "                 class_weight = class_weight)\n",
    "\n",
    "\n",
    "# summarize history for loss\n",
    "plt.plot(hist.history[\"loss\"])\n",
    "#plt.plot(hist.history[\"val_loss\"])\n",
    "plt.title(\"model loss\")\n",
    "plt.ylabel(\"loss\")\n",
    "plt.xlabel(\"epoch\")\n",
    "plt.legend([\"train\", \"val\"], loc=\"upper left\")\n",
    "plt.show()\n",
    "\n",
    "print(hist)"
   ]
  },
  {
   "cell_type": "code",
   "execution_count": 280,
   "metadata": {},
   "outputs": [
    {
     "name": "stdout",
     "output_type": "stream",
     "text": [
      "Accuracy is 0.7479\n",
      "========================\n",
      "\n",
      " Confusion Matrix\n",
      " [[31831 10788]\n",
      " [  153   628]]\n",
      "========================\n",
      "\n",
      " Misclassficiation Report\n",
      "              precision    recall  f1-score   support\n",
      "\n",
      "        0.0       1.00      0.75      0.85     42619\n",
      "        1.0       0.06      0.80      0.10       781\n",
      "\n",
      "avg / total       0.98      0.75      0.84     43400\n",
      "\n",
      "========================\n"
     ]
    }
   ],
   "source": [
    "# complete train data\n",
    "y_classes = model.predict_classes(train_x)\n",
    "my_metrics(train_y,y_classes)"
   ]
  },
  {
   "cell_type": "code",
   "execution_count": 283,
   "metadata": {},
   "outputs": [
    {
     "data": {
      "text/html": [
       "<div>\n",
       "<style>\n",
       "    .dataframe thead tr:only-child th {\n",
       "        text-align: right;\n",
       "    }\n",
       "\n",
       "    .dataframe thead th {\n",
       "        text-align: left;\n",
       "    }\n",
       "\n",
       "    .dataframe tbody tr th {\n",
       "        vertical-align: top;\n",
       "    }\n",
       "</style>\n",
       "<table border=\"1\" class=\"dataframe\">\n",
       "  <thead>\n",
       "    <tr style=\"text-align: right;\">\n",
       "      <th></th>\n",
       "      <th>Residence_type</th>\n",
       "      <th>age</th>\n",
       "      <th>ever_married</th>\n",
       "      <th>smoking_status</th>\n",
       "      <th>work_type</th>\n",
       "      <th>Person</th>\n",
       "      <th>bmi_bin_1</th>\n",
       "      <th>bmi_bin_2</th>\n",
       "      <th>bmi_bin_3</th>\n",
       "      <th>bmi_bin_4</th>\n",
       "      <th>bmi_bin_5</th>\n",
       "      <th>bmi_bin_6</th>\n",
       "      <th>avg_glucose_level_bin_1</th>\n",
       "      <th>avg_glucose_level_bin_2</th>\n",
       "      <th>avg_glucose_level_bin_3</th>\n",
       "      <th>avg_glucose_level_bin_4</th>\n",
       "      <th>heart_disease_0</th>\n",
       "      <th>heart_disease_1</th>\n",
       "      <th>hypertension_0</th>\n",
       "      <th>hypertension_1</th>\n",
       "    </tr>\n",
       "  </thead>\n",
       "  <tbody>\n",
       "    <tr>\n",
       "      <th>0</th>\n",
       "      <td>0</td>\n",
       "      <td>-1.739171</td>\n",
       "      <td>0</td>\n",
       "      <td>1</td>\n",
       "      <td>4</td>\n",
       "      <td>3</td>\n",
       "      <td>1</td>\n",
       "      <td>0</td>\n",
       "      <td>0</td>\n",
       "      <td>0</td>\n",
       "      <td>0</td>\n",
       "      <td>0</td>\n",
       "      <td>1</td>\n",
       "      <td>0</td>\n",
       "      <td>0</td>\n",
       "      <td>0</td>\n",
       "      <td>1</td>\n",
       "      <td>0</td>\n",
       "      <td>1</td>\n",
       "      <td>0</td>\n",
       "    </tr>\n",
       "    <tr>\n",
       "      <th>1</th>\n",
       "      <td>1</td>\n",
       "      <td>0.702894</td>\n",
       "      <td>1</td>\n",
       "      <td>1</td>\n",
       "      <td>2</td>\n",
       "      <td>1</td>\n",
       "      <td>0</td>\n",
       "      <td>0</td>\n",
       "      <td>0</td>\n",
       "      <td>0</td>\n",
       "      <td>0</td>\n",
       "      <td>1</td>\n",
       "      <td>1</td>\n",
       "      <td>0</td>\n",
       "      <td>0</td>\n",
       "      <td>0</td>\n",
       "      <td>1</td>\n",
       "      <td>0</td>\n",
       "      <td>0</td>\n",
       "      <td>1</td>\n",
       "    </tr>\n",
       "    <tr>\n",
       "      <th>2</th>\n",
       "      <td>1</td>\n",
       "      <td>-1.517165</td>\n",
       "      <td>0</td>\n",
       "      <td>1</td>\n",
       "      <td>4</td>\n",
       "      <td>3</td>\n",
       "      <td>1</td>\n",
       "      <td>0</td>\n",
       "      <td>0</td>\n",
       "      <td>0</td>\n",
       "      <td>0</td>\n",
       "      <td>0</td>\n",
       "      <td>1</td>\n",
       "      <td>0</td>\n",
       "      <td>0</td>\n",
       "      <td>0</td>\n",
       "      <td>1</td>\n",
       "      <td>0</td>\n",
       "      <td>1</td>\n",
       "      <td>0</td>\n",
       "    </tr>\n",
       "    <tr>\n",
       "      <th>3</th>\n",
       "      <td>0</td>\n",
       "      <td>1.235708</td>\n",
       "      <td>1</td>\n",
       "      <td>0</td>\n",
       "      <td>2</td>\n",
       "      <td>0</td>\n",
       "      <td>0</td>\n",
       "      <td>0</td>\n",
       "      <td>0</td>\n",
       "      <td>0</td>\n",
       "      <td>1</td>\n",
       "      <td>0</td>\n",
       "      <td>1</td>\n",
       "      <td>0</td>\n",
       "      <td>0</td>\n",
       "      <td>0</td>\n",
       "      <td>1</td>\n",
       "      <td>0</td>\n",
       "      <td>1</td>\n",
       "      <td>0</td>\n",
       "    </tr>\n",
       "    <tr>\n",
       "      <th>4</th>\n",
       "      <td>0</td>\n",
       "      <td>-1.250758</td>\n",
       "      <td>0</td>\n",
       "      <td>1</td>\n",
       "      <td>4</td>\n",
       "      <td>3</td>\n",
       "      <td>0</td>\n",
       "      <td>1</td>\n",
       "      <td>0</td>\n",
       "      <td>0</td>\n",
       "      <td>0</td>\n",
       "      <td>0</td>\n",
       "      <td>1</td>\n",
       "      <td>0</td>\n",
       "      <td>0</td>\n",
       "      <td>0</td>\n",
       "      <td>1</td>\n",
       "      <td>0</td>\n",
       "      <td>1</td>\n",
       "      <td>0</td>\n",
       "    </tr>\n",
       "  </tbody>\n",
       "</table>\n",
       "</div>"
      ],
      "text/plain": [
       "  Residence_type       age ever_married smoking_status work_type Person  \\\n",
       "0              0 -1.739171            0              1         4      3   \n",
       "1              1  0.702894            1              1         2      1   \n",
       "2              1 -1.517165            0              1         4      3   \n",
       "3              0  1.235708            1              0         2      0   \n",
       "4              0 -1.250758            0              1         4      3   \n",
       "\n",
       "   bmi_bin_1  bmi_bin_2  bmi_bin_3  bmi_bin_4  bmi_bin_5  bmi_bin_6  \\\n",
       "0          1          0          0          0          0          0   \n",
       "1          0          0          0          0          0          1   \n",
       "2          1          0          0          0          0          0   \n",
       "3          0          0          0          0          1          0   \n",
       "4          0          1          0          0          0          0   \n",
       "\n",
       "   avg_glucose_level_bin_1  avg_glucose_level_bin_2  avg_glucose_level_bin_3  \\\n",
       "0                        1                        0                        0   \n",
       "1                        1                        0                        0   \n",
       "2                        1                        0                        0   \n",
       "3                        1                        0                        0   \n",
       "4                        1                        0                        0   \n",
       "\n",
       "   avg_glucose_level_bin_4  heart_disease_0  heart_disease_1  hypertension_0  \\\n",
       "0                        0                1                0               1   \n",
       "1                        0                1                0               0   \n",
       "2                        0                1                0               1   \n",
       "3                        0                1                0               1   \n",
       "4                        0                1                0               1   \n",
       "\n",
       "   hypertension_1  \n",
       "0               0  \n",
       "1               1  \n",
       "2               0  \n",
       "3               0  \n",
       "4               0  "
      ]
     },
     "execution_count": 283,
     "metadata": {},
     "output_type": "execute_result"
    }
   ],
   "source": [
    "train_x[train_y==0].head(5)"
   ]
  },
  {
   "cell_type": "markdown",
   "metadata": {},
   "source": [
    "### Predict on Test Data"
   ]
  },
  {
   "cell_type": "code",
   "execution_count": 194,
   "metadata": {
    "collapsed": true
   },
   "outputs": [],
   "source": [
    "# predict on test_x\n",
    "Y_pred = model.predict_proba(test_x)\n",
    "\n",
    "#Submit\n",
    "submission = pd.DataFrame({\n",
    "    \"id\": test_data[\"id\"],\n",
    "    \"stroke\": Y_pred.flatten()\n",
    "})\n",
    "\n",
    "submission.to_csv('AV_Mckinsey-Winning Solution.csv', index=False)\n"
   ]
  }
 ],
 "metadata": {
  "kernelspec": {
   "display_name": "Python 3",
   "language": "python",
   "name": "python3"
  },
  "language_info": {
   "codemirror_mode": {
    "name": "ipython",
    "version": 3
   },
   "file_extension": ".py",
   "mimetype": "text/x-python",
   "name": "python",
   "nbconvert_exporter": "python",
   "pygments_lexer": "ipython3",
   "version": "3.6.2"
  },
  "toc": {
   "base_numbering": 1,
   "nav_menu": {},
   "number_sections": true,
   "sideBar": true,
   "skip_h1_title": false,
   "title_cell": "Table of Contents",
   "title_sidebar": "Contents",
   "toc_cell": false,
   "toc_position": {},
   "toc_section_display": true,
   "toc_window_display": true
  }
 },
 "nbformat": 4,
 "nbformat_minor": 2
}
