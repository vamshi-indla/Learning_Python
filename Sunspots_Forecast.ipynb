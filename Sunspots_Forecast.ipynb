{
  "nbformat": 4,
  "nbformat_minor": 0,
  "metadata": {
    "colab": {
      "name": "Sunspots Forecast.ipynb",
      "provenance": [],
      "collapsed_sections": [],
      "authorship_tag": "ABX9TyMu+/jVFJBHwKnJZR3+ZpQd",
      "include_colab_link": true
    },
    "kernelspec": {
      "name": "python3",
      "display_name": "Python 3"
    }
  },
  "cells": [
    {
      "cell_type": "markdown",
      "metadata": {
        "id": "view-in-github",
        "colab_type": "text"
      },
      "source": [
        "<a href=\"https://colab.research.google.com/github/vamshi-indla/My_Learnings/blob/master/Sunspots_Forecast.ipynb\" target=\"_parent\"><img src=\"https://colab.research.google.com/assets/colab-badge.svg\" alt=\"Open In Colab\"/></a>"
      ]
    },
    {
      "cell_type": "markdown",
      "metadata": {
        "id": "3c5Fh0P7fxfS",
        "colab_type": "text"
      },
      "source": [
        "#Sunspots Forecast"
      ]
    },
    {
      "cell_type": "markdown",
      "metadata": {
        "id": "9XgSD20ggjLp",
        "colab_type": "text"
      },
      "source": [
        "### Download Dataset"
      ]
    },
    {
      "cell_type": "code",
      "metadata": {
        "id": "L8q8fLlhh8vW",
        "colab_type": "code",
        "colab": {
          "base_uri": "https://localhost:8080/",
          "height": 34
        },
        "outputId": "426bd557-3663-4e60-e3ec-212aa1a4da16"
      },
      "source": [
        "import tensorflow as tf\n",
        "import numpy as np\n",
        "import matplotlib.pyplot as plt\n",
        "print(tf.__version__)"
      ],
      "execution_count": 29,
      "outputs": [
        {
          "output_type": "stream",
          "text": [
            "2.2.0\n"
          ],
          "name": "stdout"
        }
      ]
    },
    {
      "cell_type": "code",
      "metadata": {
        "id": "Jnot9cwGfsog",
        "colab_type": "code",
        "colab": {
          "base_uri": "https://localhost:8080/",
          "height": 202
        },
        "outputId": "f6b61059-937d-4319-a141-4d48c941c4cc"
      },
      "source": [
        "!wget --no-check-certificate \\\n",
        "https://storage.googleapis.com/laurencemoroney-blog.appspot.com/Sunspots.csv \\\n",
        "-O /tmp/sunspots.csv"
      ],
      "execution_count": 30,
      "outputs": [
        {
          "output_type": "stream",
          "text": [
            "--2020-05-30 04:05:11--  https://storage.googleapis.com/laurencemoroney-blog.appspot.com/Sunspots.csv\n",
            "Resolving storage.googleapis.com (storage.googleapis.com)... 74.125.31.128, 2607:f8b0:400c:c04::80\n",
            "Connecting to storage.googleapis.com (storage.googleapis.com)|74.125.31.128|:443... connected.\n",
            "HTTP request sent, awaiting response... 200 OK\n",
            "Length: 70827 (69K) [application/octet-stream]\n",
            "Saving to: ‘/tmp/sunspots.csv’\n",
            "\n",
            "\r/tmp/sunspots.csv     0%[                    ]       0  --.-KB/s               \r/tmp/sunspots.csv   100%[===================>]  69.17K  --.-KB/s    in 0.001s  \n",
            "\n",
            "2020-05-30 04:05:11 (120 MB/s) - ‘/tmp/sunspots.csv’ saved [70827/70827]\n",
            "\n"
          ],
          "name": "stdout"
        }
      ]
    },
    {
      "cell_type": "code",
      "metadata": {
        "id": "_VZ-KIYegomu",
        "colab_type": "code",
        "colab": {}
      },
      "source": [
        "import csv\n",
        "time_step = []\n",
        "sunspots = []\n",
        "\n",
        "with open('/tmp/sunspots.csv') as csvfile:\n",
        "  reader = csv.reader(csvfile, delimiter = ',')\n",
        "  next(reader)\n",
        "  for row in reader:\n",
        "    sunspots.append(float(row[2]))\n",
        "    time_step.append(int(row[0]))\n"
      ],
      "execution_count": 0,
      "outputs": []
    },
    {
      "cell_type": "markdown",
      "metadata": {
        "id": "mrqC_bBmfvQj",
        "colab_type": "text"
      },
      "source": [
        ""
      ]
    },
    {
      "cell_type": "markdown",
      "metadata": {
        "id": "X4XDn7QE0GLI",
        "colab_type": "text"
      },
      "source": [
        ""
      ]
    },
    {
      "cell_type": "code",
      "metadata": {
        "id": "RYHhgd8IhKAC",
        "colab_type": "code",
        "colab": {}
      },
      "source": [
        "def plot_series(time, series, format=\"-\", start=0, end=None):\n",
        "    plt.plot(time[start:end], series[start:end], format)\n",
        "    plt.xlabel(\"Time\")\n",
        "    plt.ylabel(\"Value\")\n",
        "    plt.grid(True)\n",
        "\n",
        "series = np.array(sunspots)\n",
        "time = np.array(time_step)\n",
        "\n",
        "split_time = 3000\n",
        "time_train = time[:split_time]\n",
        "x_train = series[:split_time]\n",
        "time_valid = time[split_time:]\n",
        "x_valid = series[split_time:]\n",
        "\n",
        "window_size = 20\n",
        "batch_size = 32\n",
        "shuffle_buffer_size = 1000"
      ],
      "execution_count": 0,
      "outputs": []
    },
    {
      "cell_type": "markdown",
      "metadata": {
        "id": "EAoQM5Z7lmxu",
        "colab_type": "text"
      },
      "source": [
        "### Plot the data"
      ]
    },
    {
      "cell_type": "code",
      "metadata": {
        "id": "kHXT4U4YhyTi",
        "colab_type": "code",
        "colab": {
          "base_uri": "https://localhost:8080/",
          "height": 279
        },
        "outputId": "6bde93a0-1cd6-4c4a-852b-cecad4210914"
      },
      "source": [
        "plot_series(time,series)"
      ],
      "execution_count": 33,
      "outputs": [
        {
          "output_type": "display_data",
          "data": {
            "image/png": "[encoded data removed]",
            "text/plain": [
              "<Figure size 432x288 with 1 Axes>"
            ]
          },
          "metadata": {
            "tags": [],
            "needs_background": "light"
          }
        }
      ]
    },
    {
      "cell_type": "markdown",
      "metadata": {
        "id": "qNJ51M1Slj_W",
        "colab_type": "text"
      },
      "source": [
        "### Zoom in "
      ]
    },
    {
      "cell_type": "code",
      "metadata": {
        "id": "tOyYXmHVlPIK",
        "colab_type": "code",
        "colab": {
          "base_uri": "https://localhost:8080/",
          "height": 279
        },
        "outputId": "791183e6-7412-4fd2-caaf-9b2f5e70e7fb"
      },
      "source": [
        "plot_series(time[3000:],series[3000:])"
      ],
      "execution_count": 34,
      "outputs": [
        {
          "output_type": "display_data",
          "data": {
            "image/png": "[encoded data removed]",
            "text/plain": [
              "<Figure size 432x288 with 1 Axes>"
            ]
          },
          "metadata": {
            "tags": [],
            "needs_background": "light"
          }
        }
      ]
    },
    {
      "cell_type": "code",
      "metadata": {
        "id": "lJiP9RSNhcd4",
        "colab_type": "code",
        "colab": {}
      },
      "source": [
        "def windowed_dataset(series, window_size, batch_size, shuffle_buffer):\n",
        "    series = tf.expand_dims(series, axis=-1)\n",
        "    ds = tf.data.Dataset.from_tensor_slices(series)\n",
        "    ds = ds.window(window_size + 1, shift=1, drop_remainder=True)\n",
        "    ds = ds.flat_map(lambda w: w.batch(window_size + 1))\n",
        "    ds = ds.shuffle(shuffle_buffer)\n",
        "    ds = ds.map(lambda w: (w[:-1], w[1:]))\n",
        "    return ds.batch(batch_size).prefetch(1)"
      ],
      "execution_count": 0,
      "outputs": []
    },
    {
      "cell_type": "code",
      "metadata": {
        "id": "MzYtDTMHhqVg",
        "colab_type": "code",
        "colab": {}
      },
      "source": [
        "def model_forecast(model, series, window_size):\n",
        "    ds = tf.data.Dataset.from_tensor_slices(series)\n",
        "    ds = ds.window(window_size, shift=1, drop_remainder=True)\n",
        "    ds = ds.flat_map(lambda w: w.batch(window_size))\n",
        "    ds = ds.batch(32).prefetch(1)\n",
        "    forecast = model.predict(ds)\n",
        "    return forecast"
      ],
      "execution_count": 0,
      "outputs": []
    },
    {
      "cell_type": "markdown",
      "metadata": {
        "id": "ALCROAEiiWwK",
        "colab_type": "text"
      },
      "source": [
        "### Train the model with varying learning rates and find the best suited one"
      ]
    },
    {
      "cell_type": "code",
      "metadata": {
        "id": "07O94qxRhsuV",
        "colab_type": "code",
        "colab": {
          "base_uri": "https://localhost:8080/",
          "height": 1000
        },
        "outputId": "7c717164-f4e0-46bf-ff3d-5eac5d12ba57"
      },
      "source": [
        "tf.keras.backend.clear_session()\n",
        "tf.random.set_seed(51)\n",
        "np.random.seed(51)\n",
        "window_size = 64\n",
        "batch_size = 256\n",
        "train_set = windowed_dataset(x_train, window_size, batch_size, shuffle_buffer_size)\n",
        "print(train_set)\n",
        "print(x_train.shape)\n",
        "\n",
        "model = tf.keras.models.Sequential([\n",
        "  tf.keras.layers.Conv1D(filters=32, kernel_size=5,\n",
        "                      strides=1, padding=\"causal\",\n",
        "                      activation=\"relu\",\n",
        "                      input_shape=[None, 1]),\n",
        "  tf.keras.layers.LSTM(64, return_sequences=True),\n",
        "  tf.keras.layers.LSTM(64, return_sequences=True),\n",
        "  tf.keras.layers.Dense(30, activation=\"relu\"),\n",
        "  tf.keras.layers.Dense(10, activation=\"relu\"),\n",
        "  tf.keras.layers.Dense(1),\n",
        "  tf.keras.layers.Lambda(lambda x: x * 400)\n",
        "])\n",
        "\n",
        "lr_schedule = tf.keras.callbacks.LearningRateScheduler(\n",
        "    lambda epoch: 1e-8 * 10**(epoch / 20))\n",
        "optimizer = tf.keras.optimizers.SGD(lr=1e-8, momentum=0.9)\n",
        "model.compile(loss=tf.keras.losses.Huber(),\n",
        "              optimizer=optimizer,\n",
        "              metrics=[\"mae\"])\n",
        "history = model.fit(train_set, epochs=100, callbacks=[lr_schedule])\n"
      ],
      "execution_count": 22,
      "outputs": [
        {
          "output_type": "stream",
          "text": [
            "Epoch 1/100\n",
            "8/8 [==============================] - 1s 68ms/step - loss: 58.4196 - mae: 58.9175 - lr: 1.0000e-08\n",
            "Epoch 2/100\n",
            "8/8 [==============================] - 1s 65ms/step - loss: 57.7190 - mae: 58.2167 - lr: 1.1220e-08\n",
            "Epoch 3/100\n",
            "8/8 [==============================] - 1s 66ms/step - loss: 56.7194 - mae: 57.2170 - lr: 1.2589e-08\n",
            "Epoch 4/100\n",
            "8/8 [==============================] - 1s 66ms/step - loss: 55.5877 - mae: 56.0849 - lr: 1.4125e-08\n",
            "Epoch 5/100\n",
            "8/8 [==============================] - 1s 64ms/step - loss: 54.4490 - mae: 54.9460 - lr: 1.5849e-08\n",
            "Epoch 6/100\n",
            "8/8 [==============================] - 1s 66ms/step - loss: 53.2946 - mae: 53.7916 - lr: 1.7783e-08\n",
            "Epoch 7/100\n",
            "8/8 [==============================] - 1s 67ms/step - loss: 52.1635 - mae: 52.6605 - lr: 1.9953e-08\n",
            "Epoch 8/100\n",
            "8/8 [==============================] - 1s 65ms/step - loss: 51.0383 - mae: 51.5353 - lr: 2.2387e-08\n",
            "Epoch 9/100\n",
            "8/8 [==============================] - 1s 66ms/step - loss: 50.0782 - mae: 50.5753 - lr: 2.5119e-08\n",
            "Epoch 10/100\n",
            "8/8 [==============================] - 1s 65ms/step - loss: 49.2546 - mae: 49.7518 - lr: 2.8184e-08\n",
            "Epoch 11/100\n",
            "8/8 [==============================] - 1s 64ms/step - loss: 48.5861 - mae: 49.0832 - lr: 3.1623e-08\n",
            "Epoch 12/100\n",
            "8/8 [==============================] - 1s 64ms/step - loss: 47.9385 - mae: 48.4352 - lr: 3.5481e-08\n",
            "Epoch 13/100\n",
            "8/8 [==============================] - 1s 66ms/step - loss: 47.2603 - mae: 47.7571 - lr: 3.9811e-08\n",
            "Epoch 14/100\n",
            "8/8 [==============================] - 1s 65ms/step - loss: 46.5574 - mae: 47.0543 - lr: 4.4668e-08\n",
            "Epoch 15/100\n",
            "8/8 [==============================] - 1s 64ms/step - loss: 45.8306 - mae: 46.3274 - lr: 5.0119e-08\n",
            "Epoch 16/100\n",
            "8/8 [==============================] - 1s 65ms/step - loss: 45.1151 - mae: 45.6116 - lr: 5.6234e-08\n",
            "Epoch 17/100\n",
            "8/8 [==============================] - 1s 65ms/step - loss: 44.3409 - mae: 44.8380 - lr: 6.3096e-08\n",
            "Epoch 18/100\n",
            "8/8 [==============================] - 1s 67ms/step - loss: 43.5551 - mae: 44.0520 - lr: 7.0795e-08\n",
            "Epoch 19/100\n",
            "8/8 [==============================] - 1s 66ms/step - loss: 42.7408 - mae: 43.2374 - lr: 7.9433e-08\n",
            "Epoch 20/100\n",
            "8/8 [==============================] - 1s 64ms/step - loss: 41.9200 - mae: 42.4167 - lr: 8.9125e-08\n",
            "Epoch 21/100\n",
            "8/8 [==============================] - 1s 69ms/step - loss: 41.0347 - mae: 41.5312 - lr: 1.0000e-07\n",
            "Epoch 22/100\n",
            "8/8 [==============================] - 1s 66ms/step - loss: 40.1198 - mae: 40.6162 - lr: 1.1220e-07\n",
            "Epoch 23/100\n",
            "8/8 [==============================] - 1s 65ms/step - loss: 39.1676 - mae: 39.6639 - lr: 1.2589e-07\n",
            "Epoch 24/100\n",
            "8/8 [==============================] - 1s 65ms/step - loss: 38.1977 - mae: 38.6940 - lr: 1.4125e-07\n",
            "Epoch 25/100\n",
            "8/8 [==============================] - 1s 66ms/step - loss: 37.2635 - mae: 37.7596 - lr: 1.5849e-07\n",
            "Epoch 26/100\n",
            "8/8 [==============================] - 1s 66ms/step - loss: 36.3368 - mae: 36.8324 - lr: 1.7783e-07\n",
            "Epoch 27/100\n",
            "8/8 [==============================] - 1s 66ms/step - loss: 35.4512 - mae: 35.9467 - lr: 1.9953e-07\n",
            "Epoch 28/100\n",
            "8/8 [==============================] - 1s 70ms/step - loss: 34.5653 - mae: 35.0609 - lr: 2.2387e-07\n",
            "Epoch 29/100\n",
            "8/8 [==============================] - 1s 66ms/step - loss: 33.7184 - mae: 34.2138 - lr: 2.5119e-07\n",
            "Epoch 30/100\n",
            "8/8 [==============================] - 1s 64ms/step - loss: 32.8875 - mae: 33.3827 - lr: 2.8184e-07\n",
            "Epoch 31/100\n",
            "8/8 [==============================] - 1s 65ms/step - loss: 32.0173 - mae: 32.5128 - lr: 3.1623e-07\n",
            "Epoch 32/100\n",
            "8/8 [==============================] - 1s 66ms/step - loss: 31.1453 - mae: 31.6408 - lr: 3.5481e-07\n",
            "Epoch 33/100\n",
            "8/8 [==============================] - 1s 65ms/step - loss: 30.2712 - mae: 30.7667 - lr: 3.9811e-07\n",
            "Epoch 34/100\n",
            "8/8 [==============================] - 1s 64ms/step - loss: 29.4030 - mae: 29.8982 - lr: 4.4668e-07\n",
            "Epoch 35/100\n",
            "8/8 [==============================] - 1s 67ms/step - loss: 28.5658 - mae: 29.0609 - lr: 5.0119e-07\n",
            "Epoch 36/100\n",
            "8/8 [==============================] - 1s 65ms/step - loss: 27.8064 - mae: 28.3014 - lr: 5.6234e-07\n",
            "Epoch 37/100\n",
            "8/8 [==============================] - 1s 65ms/step - loss: 27.1139 - mae: 27.6090 - lr: 6.3096e-07\n",
            "Epoch 38/100\n",
            "8/8 [==============================] - 1s 65ms/step - loss: 26.4899 - mae: 26.9848 - lr: 7.0795e-07\n",
            "Epoch 39/100\n",
            "8/8 [==============================] - 1s 68ms/step - loss: 25.8857 - mae: 26.3805 - lr: 7.9433e-07\n",
            "Epoch 40/100\n",
            "8/8 [==============================] - 1s 66ms/step - loss: 25.3741 - mae: 25.8683 - lr: 8.9125e-07\n",
            "Epoch 41/100\n",
            "8/8 [==============================] - 1s 67ms/step - loss: 24.8253 - mae: 25.3196 - lr: 1.0000e-06\n",
            "Epoch 42/100\n",
            "8/8 [==============================] - 1s 66ms/step - loss: 24.3245 - mae: 24.8185 - lr: 1.1220e-06\n",
            "Epoch 43/100\n",
            "8/8 [==============================] - 1s 68ms/step - loss: 23.8121 - mae: 24.3060 - lr: 1.2589e-06\n",
            "Epoch 44/100\n",
            "8/8 [==============================] - 1s 67ms/step - loss: 23.3033 - mae: 23.7974 - lr: 1.4125e-06\n",
            "Epoch 45/100\n",
            "8/8 [==============================] - 1s 67ms/step - loss: 22.7706 - mae: 23.2646 - lr: 1.5849e-06\n",
            "Epoch 46/100\n",
            "8/8 [==============================] - 1s 66ms/step - loss: 22.2585 - mae: 22.7522 - lr: 1.7783e-06\n",
            "Epoch 47/100\n",
            "8/8 [==============================] - 1s 65ms/step - loss: 21.6974 - mae: 22.1907 - lr: 1.9953e-06\n",
            "Epoch 48/100\n",
            "8/8 [==============================] - 1s 64ms/step - loss: 21.1214 - mae: 21.6147 - lr: 2.2387e-06\n",
            "Epoch 49/100\n",
            "8/8 [==============================] - 1s 64ms/step - loss: 20.5923 - mae: 21.0854 - lr: 2.5119e-06\n",
            "Epoch 50/100\n",
            "8/8 [==============================] - 1s 63ms/step - loss: 20.0378 - mae: 20.5303 - lr: 2.8184e-06\n",
            "Epoch 51/100\n",
            "8/8 [==============================] - 1s 64ms/step - loss: 19.7043 - mae: 20.1964 - lr: 3.1623e-06\n",
            "Epoch 52/100\n",
            "8/8 [==============================] - 1s 64ms/step - loss: 19.1603 - mae: 19.6521 - lr: 3.5481e-06\n",
            "Epoch 53/100\n",
            "8/8 [==============================] - 1s 65ms/step - loss: 18.7467 - mae: 19.2382 - lr: 3.9811e-06\n",
            "Epoch 54/100\n",
            "8/8 [==============================] - 1s 66ms/step - loss: 18.3667 - mae: 18.8586 - lr: 4.4668e-06\n",
            "Epoch 55/100\n",
            "8/8 [==============================] - 1s 64ms/step - loss: 18.0042 - mae: 18.4956 - lr: 5.0119e-06\n",
            "Epoch 56/100\n",
            "8/8 [==============================] - 1s 66ms/step - loss: 17.6623 - mae: 18.1537 - lr: 5.6234e-06\n",
            "Epoch 57/100\n",
            "8/8 [==============================] - 1s 66ms/step - loss: 17.3540 - mae: 17.8452 - lr: 6.3096e-06\n",
            "Epoch 58/100\n",
            "8/8 [==============================] - 1s 67ms/step - loss: 17.6364 - mae: 18.1277 - lr: 7.0795e-06\n",
            "Epoch 59/100\n",
            "8/8 [==============================] - 1s 67ms/step - loss: 17.0474 - mae: 17.5385 - lr: 7.9433e-06\n",
            "Epoch 60/100\n",
            "8/8 [==============================] - 1s 65ms/step - loss: 17.0088 - mae: 17.4997 - lr: 8.9125e-06\n",
            "Epoch 61/100\n",
            "8/8 [==============================] - 1s 64ms/step - loss: 17.1885 - mae: 17.6800 - lr: 1.0000e-05\n",
            "Epoch 62/100\n",
            "8/8 [==============================] - 1s 68ms/step - loss: 17.5135 - mae: 18.0052 - lr: 1.1220e-05\n",
            "Epoch 63/100\n",
            "8/8 [==============================] - 1s 66ms/step - loss: 19.1430 - mae: 19.6342 - lr: 1.2589e-05\n",
            "Epoch 64/100\n",
            "8/8 [==============================] - 1s 65ms/step - loss: 30.7711 - mae: 31.2664 - lr: 1.4125e-05\n",
            "Epoch 65/100\n",
            "8/8 [==============================] - 1s 66ms/step - loss: 23.4958 - mae: 23.9894 - lr: 1.5849e-05\n",
            "Epoch 66/100\n",
            "8/8 [==============================] - 1s 64ms/step - loss: 19.4888 - mae: 19.9822 - lr: 1.7783e-05\n",
            "Epoch 67/100\n",
            "8/8 [==============================] - 1s 65ms/step - loss: 17.6682 - mae: 18.1597 - lr: 1.9953e-05\n",
            "Epoch 68/100\n",
            "8/8 [==============================] - 1s 65ms/step - loss: 17.0281 - mae: 17.5193 - lr: 2.2387e-05\n",
            "Epoch 69/100\n",
            "8/8 [==============================] - 1s 68ms/step - loss: 20.3912 - mae: 20.8836 - lr: 2.5119e-05\n",
            "Epoch 70/100\n",
            "8/8 [==============================] - 1s 64ms/step - loss: 19.8976 - mae: 20.3907 - lr: 2.8184e-05\n",
            "Epoch 71/100\n",
            "8/8 [==============================] - 1s 64ms/step - loss: 18.5767 - mae: 19.0694 - lr: 3.1623e-05\n",
            "Epoch 72/100\n",
            "8/8 [==============================] - 1s 66ms/step - loss: 16.7729 - mae: 17.2638 - lr: 3.5481e-05\n",
            "Epoch 73/100\n",
            "8/8 [==============================] - 1s 69ms/step - loss: 15.7884 - mae: 16.2785 - lr: 3.9811e-05\n",
            "Epoch 74/100\n",
            "8/8 [==============================] - 1s 64ms/step - loss: 20.2325 - mae: 20.7251 - lr: 4.4668e-05\n",
            "Epoch 75/100\n",
            "8/8 [==============================] - 1s 66ms/step - loss: 18.0457 - mae: 18.5373 - lr: 5.0119e-05\n",
            "Epoch 76/100\n",
            "8/8 [==============================] - 1s 64ms/step - loss: 17.1481 - mae: 17.6399 - lr: 5.6234e-05\n",
            "Epoch 77/100\n",
            "8/8 [==============================] - 1s 65ms/step - loss: 18.3902 - mae: 18.8824 - lr: 6.3096e-05\n",
            "Epoch 78/100\n",
            "8/8 [==============================] - 1s 66ms/step - loss: 18.1312 - mae: 18.6229 - lr: 7.0795e-05\n",
            "Epoch 79/100\n",
            "8/8 [==============================] - 1s 68ms/step - loss: 20.2962 - mae: 20.7892 - lr: 7.9433e-05\n",
            "Epoch 80/100\n",
            "8/8 [==============================] - 1s 65ms/step - loss: 18.7493 - mae: 19.2422 - lr: 8.9125e-05\n",
            "Epoch 81/100\n",
            "8/8 [==============================] - 1s 65ms/step - loss: 21.8463 - mae: 22.3403 - lr: 1.0000e-04\n",
            "Epoch 82/100\n",
            "8/8 [==============================] - 1s 67ms/step - loss: 18.5973 - mae: 19.0900 - lr: 1.1220e-04\n",
            "Epoch 83/100\n",
            "8/8 [==============================] - 1s 66ms/step - loss: 20.6326 - mae: 21.1260 - lr: 1.2589e-04\n",
            "Epoch 84/100\n",
            "8/8 [==============================] - 1s 67ms/step - loss: 24.6154 - mae: 25.1105 - lr: 1.4125e-04\n",
            "Epoch 85/100\n",
            "8/8 [==============================] - 1s 67ms/step - loss: 40.4513 - mae: 40.9481 - lr: 1.5849e-04\n",
            "Epoch 86/100\n",
            "8/8 [==============================] - 1s 66ms/step - loss: 62.5142 - mae: 63.0131 - lr: 1.7783e-04\n",
            "Epoch 87/100\n",
            "8/8 [==============================] - 1s 67ms/step - loss: 47.2841 - mae: 47.7816 - lr: 1.9953e-04\n",
            "Epoch 88/100\n",
            "8/8 [==============================] - 1s 67ms/step - loss: 40.1101 - mae: 40.6071 - lr: 2.2387e-04\n",
            "Epoch 89/100\n",
            "8/8 [==============================] - 1s 66ms/step - loss: 40.3758 - mae: 40.8730 - lr: 2.5119e-04\n",
            "Epoch 90/100\n",
            "8/8 [==============================] - 1s 66ms/step - loss: 64.3180 - mae: 64.8166 - lr: 2.8184e-04\n",
            "Epoch 91/100\n",
            "8/8 [==============================] - 1s 68ms/step - loss: 53.5047 - mae: 54.0025 - lr: 3.1623e-04\n",
            "Epoch 92/100\n",
            "8/8 [==============================] - 1s 67ms/step - loss: 46.5831 - mae: 47.0808 - lr: 3.5481e-04\n",
            "Epoch 93/100\n",
            "8/8 [==============================] - 1s 66ms/step - loss: 61.9869 - mae: 62.4850 - lr: 3.9811e-04\n",
            "Epoch 94/100\n",
            "8/8 [==============================] - 1s 68ms/step - loss: 56.0584 - mae: 56.5563 - lr: 4.4668e-04\n",
            "Epoch 95/100\n",
            "8/8 [==============================] - 1s 68ms/step - loss: 49.8248 - mae: 50.3221 - lr: 5.0119e-04\n",
            "Epoch 96/100\n",
            "8/8 [==============================] - 1s 66ms/step - loss: 47.4458 - mae: 47.9437 - lr: 5.6234e-04\n",
            "Epoch 97/100\n",
            "8/8 [==============================] - 1s 66ms/step - loss: 48.3970 - mae: 48.8948 - lr: 6.3096e-04\n",
            "Epoch 98/100\n",
            "8/8 [==============================] - 1s 69ms/step - loss: 47.2002 - mae: 47.6978 - lr: 7.0795e-04\n",
            "Epoch 99/100\n",
            "8/8 [==============================] - 1s 69ms/step - loss: 43.6320 - mae: 44.1294 - lr: 7.9433e-04\n",
            "Epoch 100/100\n",
            "8/8 [==============================] - 1s 67ms/step - loss: 111.4276 - mae: 111.9267 - lr: 8.9125e-04\n"
          ],
          "name": "stdout"
        }
      ]
    },
    {
      "cell_type": "markdown",
      "metadata": {
        "id": "AD_MMLNfiewH",
        "colab_type": "text"
      },
      "source": [
        "### Plot learning rate vs loss and identify best learning rate which offers low loss"
      ]
    },
    {
      "cell_type": "code",
      "metadata": {
        "id": "FXXKkFM4iEoQ",
        "colab_type": "code",
        "colab": {
          "base_uri": "https://localhost:8080/",
          "height": 290
        },
        "outputId": "dd2ab9bc-8fbe-4911-c7e4-24e5ecb155af"
      },
      "source": [
        "plt.semilogx(history.history[\"lr\"], history.history[\"loss\"])\n",
        "plt.axis([1e-8, 1e-4, 0, 30])"
      ],
      "execution_count": 23,
      "outputs": [
        {
          "output_type": "execute_result",
          "data": {
            "text/plain": [
              "(1e-08, 0.0001, 0.0, 30.0)"
            ]
          },
          "metadata": {
            "tags": []
          },
          "execution_count": 23
        },
        {
          "output_type": "display_data",
          "data": {
            "image/png": "[encoded data removed]",
            "text/plain": [
              "<Figure size 432x288 with 1 Axes>"
            ]
          },
          "metadata": {
            "tags": [],
            "needs_background": "light"
          }
        }
      ]
    },
    {
      "cell_type": "markdown",
      "metadata": {
        "id": "Cn1YXsgpirmF",
        "colab_type": "text"
      },
      "source": [
        "### Retrain the model with the best learning rate with more epochs"
      ]
    },
    {
      "cell_type": "code",
      "metadata": {
        "id": "e7XdUy6BiJr6",
        "colab_type": "code",
        "colab": {
          "base_uri": "https://localhost:8080/",
          "height": 1000
        },
        "outputId": "c0f18e8e-3098-4b3d-faf1-d2eacc490d6c"
      },
      "source": [
        "tf.keras.backend.clear_session()\n",
        "tf.random.set_seed(51)\n",
        "np.random.seed(51)\n",
        "train_set = windowed_dataset(x_train, window_size=60, batch_size=100, shuffle_buffer=shuffle_buffer_size)\n",
        "model = tf.keras.models.Sequential([\n",
        "  tf.keras.layers.Conv1D(filters=60, kernel_size=5,\n",
        "                      strides=1, padding=\"causal\",\n",
        "                      activation=\"relu\",\n",
        "                      input_shape=[None, 1]),\n",
        "  tf.keras.layers.LSTM(60, return_sequences=True),\n",
        "  tf.keras.layers.LSTM(60, return_sequences=True),\n",
        "  tf.keras.layers.Dense(30, activation=\"relu\"),\n",
        "  tf.keras.layers.Dense(10, activation=\"relu\"),\n",
        "  tf.keras.layers.Dense(1),\n",
        "  tf.keras.layers.Lambda(lambda x: x * 400)\n",
        "])\n",
        "\n",
        "\n",
        "optimizer = tf.keras.optimizers.SGD(lr=1e-5, momentum=0.9)\n",
        "model.compile(loss=tf.keras.losses.Huber(),\n",
        "              optimizer=optimizer,\n",
        "              metrics=[\"mae\"])\n",
        "history = model.fit(train_set,epochs=500)"
      ],
      "execution_count": 0,
      "outputs": [
        {
          "output_type": "stream",
          "text": [
            "Epoch 1/500\n",
            "30/30 [==============================] - 4s 119ms/step - loss: 38.9180 - mae: 39.4144\n",
            "Epoch 2/500\n",
            "30/30 [==============================] - 4s 119ms/step - loss: 25.7652 - mae: 26.2597\n",
            "Epoch 3/500\n",
            "30/30 [==============================] - 4s 122ms/step - loss: 22.0764 - mae: 22.5701\n",
            "Epoch 4/500\n",
            "30/30 [==============================] - 4s 121ms/step - loss: 20.4601 - mae: 20.9529\n",
            "Epoch 5/500\n",
            "30/30 [==============================] - 4s 121ms/step - loss: 19.7085 - mae: 20.2010\n",
            "Epoch 6/500\n",
            "30/30 [==============================] - 4s 121ms/step - loss: 19.3149 - mae: 19.8069\n",
            "Epoch 7/500\n",
            "30/30 [==============================] - 4s 121ms/step - loss: 18.7104 - mae: 19.2024\n",
            "Epoch 8/500\n",
            "30/30 [==============================] - 4s 121ms/step - loss: 18.1212 - mae: 18.6128\n",
            "Epoch 9/500\n",
            "30/30 [==============================] - 4s 120ms/step - loss: 18.0739 - mae: 18.5654\n",
            "Epoch 10/500\n",
            "30/30 [==============================] - 4s 120ms/step - loss: 17.9504 - mae: 18.4419\n",
            "Epoch 11/500\n",
            "30/30 [==============================] - 4s 122ms/step - loss: 17.7363 - mae: 18.2272\n",
            "Epoch 12/500\n",
            "30/30 [==============================] - 4s 120ms/step - loss: 18.3537 - mae: 18.8446\n",
            "Epoch 13/500\n",
            "30/30 [==============================] - 4s 121ms/step - loss: 17.7069 - mae: 18.1977\n",
            "Epoch 14/500\n",
            "30/30 [==============================] - 4s 121ms/step - loss: 17.7187 - mae: 18.2093\n",
            "Epoch 15/500\n",
            "30/30 [==============================] - 4s 122ms/step - loss: 18.0154 - mae: 18.5061\n",
            "Epoch 16/500\n",
            "30/30 [==============================] - 4s 121ms/step - loss: 18.3109 - mae: 18.8018\n",
            "Epoch 17/500\n",
            "30/30 [==============================] - 4s 121ms/step - loss: 17.4828 - mae: 17.9732\n",
            "Epoch 18/500\n",
            "30/30 [==============================] - 4s 121ms/step - loss: 17.6499 - mae: 18.1407\n",
            "Epoch 19/500\n",
            "30/30 [==============================] - 4s 121ms/step - loss: 17.2634 - mae: 17.7541\n",
            "Epoch 20/500\n",
            "30/30 [==============================] - 4s 121ms/step - loss: 17.4970 - mae: 17.9879\n",
            "Epoch 21/500\n",
            "30/30 [==============================] - 4s 118ms/step - loss: 17.3841 - mae: 17.8748\n",
            "Epoch 22/500\n",
            "30/30 [==============================] - 4s 118ms/step - loss: 17.1726 - mae: 17.6632\n",
            "Epoch 23/500\n",
            "30/30 [==============================] - 3s 116ms/step - loss: 17.2813 - mae: 17.7721\n",
            "Epoch 24/500\n",
            "30/30 [==============================] - 4s 117ms/step - loss: 17.3486 - mae: 17.8393\n",
            "Epoch 25/500\n",
            "30/30 [==============================] - 4s 117ms/step - loss: 17.2846 - mae: 17.7756\n",
            "Epoch 26/500\n",
            "30/30 [==============================] - 4s 121ms/step - loss: 17.2291 - mae: 17.7199\n",
            "Epoch 27/500\n",
            "30/30 [==============================] - 4s 122ms/step - loss: 17.1994 - mae: 17.6901\n",
            "Epoch 28/500\n",
            "30/30 [==============================] - 4s 121ms/step - loss: 17.1761 - mae: 17.6666\n",
            "Epoch 29/500\n",
            "30/30 [==============================] - 4s 121ms/step - loss: 17.0391 - mae: 17.5295\n",
            "Epoch 30/500\n",
            "30/30 [==============================] - 4s 121ms/step - loss: 17.1277 - mae: 17.6179\n",
            "Epoch 31/500\n",
            "30/30 [==============================] - 4s 120ms/step - loss: 17.1148 - mae: 17.6052\n",
            "Epoch 32/500\n",
            "30/30 [==============================] - 4s 122ms/step - loss: 16.9523 - mae: 17.4427\n",
            "Epoch 33/500\n",
            "30/30 [==============================] - 4s 122ms/step - loss: 17.0137 - mae: 17.5036\n",
            "Epoch 34/500\n",
            "30/30 [==============================] - 4s 123ms/step - loss: 16.8877 - mae: 17.3779\n",
            "Epoch 35/500\n",
            "30/30 [==============================] - 4s 121ms/step - loss: 16.9781 - mae: 17.4685\n",
            "Epoch 36/500\n",
            "30/30 [==============================] - 4s 122ms/step - loss: 16.9637 - mae: 17.4538\n",
            "Epoch 37/500\n",
            "30/30 [==============================] - 4s 122ms/step - loss: 17.0402 - mae: 17.5305\n",
            "Epoch 38/500\n",
            "30/30 [==============================] - 4s 122ms/step - loss: 16.9714 - mae: 17.4614\n",
            "Epoch 39/500\n",
            "30/30 [==============================] - 4s 124ms/step - loss: 17.1382 - mae: 17.6281\n",
            "Epoch 40/500\n",
            "30/30 [==============================] - 4s 124ms/step - loss: 17.0529 - mae: 17.5428\n",
            "Epoch 41/500\n",
            "30/30 [==============================] - 4s 124ms/step - loss: 16.8190 - mae: 17.3089\n",
            "Epoch 42/500\n",
            "30/30 [==============================] - 4s 122ms/step - loss: 16.8694 - mae: 17.3592\n",
            "Epoch 43/500\n",
            "30/30 [==============================] - 4s 122ms/step - loss: 16.7735 - mae: 17.2629\n",
            "Epoch 44/500\n",
            "30/30 [==============================] - 4s 122ms/step - loss: 17.2086 - mae: 17.6986\n",
            "Epoch 45/500\n",
            "30/30 [==============================] - 4s 121ms/step - loss: 16.7672 - mae: 17.2569\n",
            "Epoch 46/500\n",
            "30/30 [==============================] - 4s 121ms/step - loss: 16.8257 - mae: 17.3150\n",
            "Epoch 47/500\n",
            "30/30 [==============================] - 4s 121ms/step - loss: 16.7778 - mae: 17.2672\n",
            "Epoch 48/500\n",
            "30/30 [==============================] - 4s 122ms/step - loss: 16.9261 - mae: 17.4155\n",
            "Epoch 49/500\n",
            "30/30 [==============================] - 4s 121ms/step - loss: 16.9059 - mae: 17.3954\n",
            "Epoch 50/500\n",
            "30/30 [==============================] - 4s 121ms/step - loss: 16.7310 - mae: 17.2203\n",
            "Epoch 51/500\n",
            "30/30 [==============================] - 4s 123ms/step - loss: 16.7296 - mae: 17.2190\n",
            "Epoch 52/500\n",
            "30/30 [==============================] - 4s 122ms/step - loss: 16.9758 - mae: 17.4652\n",
            "Epoch 53/500\n",
            "30/30 [==============================] - 4s 123ms/step - loss: 16.6819 - mae: 17.1714\n",
            "Epoch 54/500\n",
            "30/30 [==============================] - 4s 122ms/step - loss: 16.7507 - mae: 17.2397\n",
            "Epoch 55/500\n",
            "30/30 [==============================] - 4s 122ms/step - loss: 16.7919 - mae: 17.2813\n",
            "Epoch 56/500\n",
            "30/30 [==============================] - 4s 123ms/step - loss: 16.6366 - mae: 17.1259\n",
            "Epoch 57/500\n",
            "30/30 [==============================] - 4s 121ms/step - loss: 16.6038 - mae: 17.0929\n",
            "Epoch 58/500\n",
            "30/30 [==============================] - 4s 123ms/step - loss: 16.5665 - mae: 17.0555\n",
            "Epoch 59/500\n",
            "30/30 [==============================] - 4s 120ms/step - loss: 16.7489 - mae: 17.2379\n",
            "Epoch 60/500\n",
            "30/30 [==============================] - 4s 118ms/step - loss: 16.8218 - mae: 17.3112\n",
            "Epoch 61/500\n",
            "30/30 [==============================] - 4s 122ms/step - loss: 16.6077 - mae: 17.0969\n",
            "Epoch 62/500\n",
            "30/30 [==============================] - 4s 121ms/step - loss: 16.5586 - mae: 17.0478\n",
            "Epoch 63/500\n",
            "30/30 [==============================] - 4s 122ms/step - loss: 16.6003 - mae: 17.0891\n",
            "Epoch 64/500\n",
            "30/30 [==============================] - 4s 122ms/step - loss: 16.5537 - mae: 17.0427\n",
            "Epoch 65/500\n",
            "30/30 [==============================] - 4s 122ms/step - loss: 16.5540 - mae: 17.0429\n",
            "Epoch 66/500\n",
            "30/30 [==============================] - 4s 121ms/step - loss: 16.6375 - mae: 17.1272\n",
            "Epoch 67/500\n",
            "30/30 [==============================] - 4s 118ms/step - loss: 16.5354 - mae: 17.0242\n",
            "Epoch 68/500\n",
            "30/30 [==============================] - 4s 119ms/step - loss: 16.7342 - mae: 17.2237\n",
            "Epoch 69/500\n",
            "30/30 [==============================] - 4s 122ms/step - loss: 16.7647 - mae: 17.2537\n",
            "Epoch 70/500\n",
            "30/30 [==============================] - 4s 122ms/step - loss: 16.7175 - mae: 17.2066\n",
            "Epoch 71/500\n",
            "30/30 [==============================] - 4s 122ms/step - loss: 16.5213 - mae: 17.0103\n",
            "Epoch 72/500\n",
            "30/30 [==============================] - 4s 123ms/step - loss: 16.4760 - mae: 16.9649\n",
            "Epoch 73/500\n",
            "30/30 [==============================] - 4s 122ms/step - loss: 16.5085 - mae: 16.9971\n",
            "Epoch 74/500\n",
            "30/30 [==============================] - 4s 118ms/step - loss: 16.5156 - mae: 17.0044\n",
            "Epoch 75/500\n",
            "30/30 [==============================] - 4s 120ms/step - loss: 16.5026 - mae: 16.9912\n",
            "Epoch 76/500\n",
            "30/30 [==============================] - 4s 122ms/step - loss: 16.5076 - mae: 16.9962\n",
            "Epoch 77/500\n",
            "30/30 [==============================] - 4s 122ms/step - loss: 16.3968 - mae: 16.8854\n",
            "Epoch 78/500\n",
            "30/30 [==============================] - 4s 122ms/step - loss: 16.5620 - mae: 17.0508\n",
            "Epoch 79/500\n",
            "30/30 [==============================] - 4s 124ms/step - loss: 16.4200 - mae: 16.9084\n",
            "Epoch 80/500\n",
            "30/30 [==============================] - 4s 122ms/step - loss: 16.5997 - mae: 17.0886\n",
            "Epoch 81/500\n",
            "30/30 [==============================] - 4s 123ms/step - loss: 16.6942 - mae: 17.1831\n",
            "Epoch 82/500\n",
            "30/30 [==============================] - 4s 123ms/step - loss: 16.4212 - mae: 16.9094\n",
            "Epoch 83/500\n",
            "30/30 [==============================] - 4s 122ms/step - loss: 16.3371 - mae: 16.8255\n",
            "Epoch 84/500\n",
            "30/30 [==============================] - 4s 124ms/step - loss: 16.3742 - mae: 16.8626\n",
            "Epoch 85/500\n",
            "30/30 [==============================] - 4s 122ms/step - loss: 16.4003 - mae: 16.8888\n",
            "Epoch 86/500\n",
            "30/30 [==============================] - 4s 123ms/step - loss: 16.7506 - mae: 17.2396\n",
            "Epoch 87/500\n",
            "30/30 [==============================] - 4s 123ms/step - loss: 16.5914 - mae: 17.0804\n",
            "Epoch 88/500\n",
            "30/30 [==============================] - 4s 123ms/step - loss: 16.5403 - mae: 17.0293\n",
            "Epoch 89/500\n",
            "30/30 [==============================] - 4s 124ms/step - loss: 16.6140 - mae: 17.1025\n",
            "Epoch 90/500\n",
            "30/30 [==============================] - 4s 122ms/step - loss: 16.3649 - mae: 16.8533\n",
            "Epoch 91/500\n",
            "30/30 [==============================] - 4s 123ms/step - loss: 16.4090 - mae: 16.8979\n",
            "Epoch 92/500\n",
            "30/30 [==============================] - 4s 123ms/step - loss: 16.4324 - mae: 16.9209\n",
            "Epoch 93/500\n",
            "30/30 [==============================] - 4s 122ms/step - loss: 16.4421 - mae: 16.9312\n",
            "Epoch 94/500\n",
            "30/30 [==============================] - 4s 121ms/step - loss: 16.6486 - mae: 17.1374\n",
            "Epoch 95/500\n",
            "30/30 [==============================] - 4s 121ms/step - loss: 16.5136 - mae: 17.0026\n",
            "Epoch 96/500\n",
            "30/30 [==============================] - 4s 122ms/step - loss: 16.3134 - mae: 16.8021\n",
            "Epoch 97/500\n",
            "30/30 [==============================] - 4s 122ms/step - loss: 16.3589 - mae: 16.8475\n",
            "Epoch 98/500\n",
            "30/30 [==============================] - 4s 121ms/step - loss: 16.3637 - mae: 16.8523\n",
            "Epoch 99/500\n",
            "30/30 [==============================] - 4s 122ms/step - loss: 16.3203 - mae: 16.8086\n",
            "Epoch 100/500\n",
            "30/30 [==============================] - 4s 122ms/step - loss: 16.2520 - mae: 16.7403\n",
            "Epoch 101/500\n",
            "30/30 [==============================] - 4s 121ms/step - loss: 16.2465 - mae: 16.7350\n",
            "Epoch 102/500\n",
            "30/30 [==============================] - 4s 122ms/step - loss: 16.2618 - mae: 16.7502\n",
            "Epoch 103/500\n",
            "30/30 [==============================] - 4s 122ms/step - loss: 16.2942 - mae: 16.7825\n",
            "Epoch 104/500\n",
            "30/30 [==============================] - 4s 122ms/step - loss: 16.5519 - mae: 17.0410\n",
            "Epoch 105/500\n",
            "30/30 [==============================] - 4s 123ms/step - loss: 16.4009 - mae: 16.8897\n",
            "Epoch 106/500\n",
            "30/30 [==============================] - 4s 122ms/step - loss: 16.2682 - mae: 16.7568\n",
            "Epoch 107/500\n",
            "30/30 [==============================] - 4s 122ms/step - loss: 16.2403 - mae: 16.7289\n",
            "Epoch 108/500\n",
            "30/30 [==============================] - 4s 123ms/step - loss: 16.2621 - mae: 16.7508\n",
            "Epoch 109/500\n",
            "30/30 [==============================] - 4s 121ms/step - loss: 16.2858 - mae: 16.7744\n",
            "Epoch 110/500\n",
            "30/30 [==============================] - 4s 123ms/step - loss: 16.2880 - mae: 16.7764\n",
            "Epoch 111/500\n",
            "30/30 [==============================] - 4s 121ms/step - loss: 16.2672 - mae: 16.7557\n",
            "Epoch 112/500\n",
            "30/30 [==============================] - 4s 122ms/step - loss: 16.2791 - mae: 16.7680\n",
            "Epoch 113/500\n",
            "30/30 [==============================] - 4s 122ms/step - loss: 16.2741 - mae: 16.7631\n",
            "Epoch 114/500\n",
            "30/30 [==============================] - 4s 118ms/step - loss: 16.2312 - mae: 16.7198\n",
            "Epoch 115/500\n",
            "30/30 [==============================] - 4s 121ms/step - loss: 16.2538 - mae: 16.7423\n",
            "Epoch 116/500\n",
            "30/30 [==============================] - 4s 122ms/step - loss: 16.3274 - mae: 16.8161\n",
            "Epoch 117/500\n",
            "30/30 [==============================] - 4s 118ms/step - loss: 16.2180 - mae: 16.7070\n",
            "Epoch 118/500\n",
            "30/30 [==============================] - 4s 121ms/step - loss: 16.2350 - mae: 16.7237\n",
            "Epoch 119/500\n",
            "30/30 [==============================] - 4s 121ms/step - loss: 16.2183 - mae: 16.7071\n",
            "Epoch 120/500\n",
            "30/30 [==============================] - 4s 124ms/step - loss: 16.2020 - mae: 16.6907\n",
            "Epoch 121/500\n",
            "30/30 [==============================] - 4s 122ms/step - loss: 16.3740 - mae: 16.8633\n",
            "Epoch 122/500\n",
            "30/30 [==============================] - 4s 122ms/step - loss: 16.1579 - mae: 16.6465\n",
            "Epoch 123/500\n",
            "30/30 [==============================] - 4s 123ms/step - loss: 16.1790 - mae: 16.6676\n",
            "Epoch 124/500\n",
            "30/30 [==============================] - 4s 122ms/step - loss: 16.3281 - mae: 16.8167\n",
            "Epoch 125/500\n",
            "30/30 [==============================] - 4s 122ms/step - loss: 16.2110 - mae: 16.6998\n",
            "Epoch 126/500\n",
            "30/30 [==============================] - 4s 122ms/step - loss: 16.1906 - mae: 16.6794\n",
            "Epoch 127/500\n",
            "30/30 [==============================] - 4s 122ms/step - loss: 16.1904 - mae: 16.6794\n",
            "Epoch 128/500\n",
            "30/30 [==============================] - 4s 123ms/step - loss: 16.2904 - mae: 16.7794\n",
            "Epoch 129/500\n",
            "30/30 [==============================] - 4s 122ms/step - loss: 16.1873 - mae: 16.6762\n",
            "Epoch 130/500\n",
            "30/30 [==============================] - 4s 122ms/step - loss: 16.0972 - mae: 16.5856\n",
            "Epoch 131/500\n",
            "30/30 [==============================] - 4s 123ms/step - loss: 16.1708 - mae: 16.6595\n",
            "Epoch 132/500\n",
            "30/30 [==============================] - 4s 121ms/step - loss: 16.1030 - mae: 16.5915\n",
            "Epoch 133/500\n",
            "30/30 [==============================] - 4s 123ms/step - loss: 16.1182 - mae: 16.6067\n",
            "Epoch 134/500\n",
            "30/30 [==============================] - 4s 122ms/step - loss: 16.1137 - mae: 16.6022\n",
            "Epoch 135/500\n",
            "30/30 [==============================] - 4s 122ms/step - loss: 16.2348 - mae: 16.7237\n",
            "Epoch 136/500\n",
            "30/30 [==============================] - 4s 121ms/step - loss: 16.1067 - mae: 16.5956\n",
            "Epoch 137/500\n",
            "30/30 [==============================] - 4s 122ms/step - loss: 16.1626 - mae: 16.6513\n",
            "Epoch 138/500\n",
            "30/30 [==============================] - 4s 123ms/step - loss: 16.0949 - mae: 16.5836\n",
            "Epoch 139/500\n",
            "30/30 [==============================] - 4s 122ms/step - loss: 16.0694 - mae: 16.5581\n",
            "Epoch 140/500\n",
            "30/30 [==============================] - 4s 122ms/step - loss: 16.0457 - mae: 16.5343\n",
            "Epoch 141/500\n",
            "30/30 [==============================] - 4s 122ms/step - loss: 16.0796 - mae: 16.5682\n",
            "Epoch 142/500\n",
            "30/30 [==============================] - 4s 122ms/step - loss: 16.1928 - mae: 16.6815\n",
            "Epoch 143/500\n",
            "30/30 [==============================] - 4s 122ms/step - loss: 16.5336 - mae: 17.0230\n",
            "Epoch 144/500\n",
            "30/30 [==============================] - 4s 122ms/step - loss: 16.1359 - mae: 16.6245\n",
            "Epoch 145/500\n",
            "30/30 [==============================] - 4s 123ms/step - loss: 16.0601 - mae: 16.5486\n",
            "Epoch 146/500\n",
            "30/30 [==============================] - 4s 122ms/step - loss: 16.0268 - mae: 16.5154\n",
            "Epoch 147/500\n",
            "30/30 [==============================] - 4s 122ms/step - loss: 16.0389 - mae: 16.5278\n",
            "Epoch 148/500\n",
            "30/30 [==============================] - 4s 122ms/step - loss: 16.0230 - mae: 16.5117\n",
            "Epoch 149/500\n",
            "30/30 [==============================] - 4s 123ms/step - loss: 16.0484 - mae: 16.5371\n",
            "Epoch 150/500\n",
            "30/30 [==============================] - 4s 118ms/step - loss: 16.0215 - mae: 16.5098\n",
            "Epoch 151/500\n",
            "30/30 [==============================] - 4s 120ms/step - loss: 16.2979 - mae: 16.7870\n",
            "Epoch 152/500\n",
            "30/30 [==============================] - 4s 124ms/step - loss: 16.1311 - mae: 16.6199\n",
            "Epoch 153/500\n",
            "30/30 [==============================] - 4s 124ms/step - loss: 15.9728 - mae: 16.4611\n",
            "Epoch 154/500\n",
            "30/30 [==============================] - 4s 122ms/step - loss: 16.0411 - mae: 16.5297\n",
            "Epoch 155/500\n",
            "30/30 [==============================] - 4s 122ms/step - loss: 16.0147 - mae: 16.5031\n",
            "Epoch 156/500\n",
            "30/30 [==============================] - 4s 124ms/step - loss: 16.1040 - mae: 16.5926\n",
            "Epoch 157/500\n",
            "30/30 [==============================] - 4s 124ms/step - loss: 16.2325 - mae: 16.7214\n",
            "Epoch 158/500\n",
            "30/30 [==============================] - 4s 122ms/step - loss: 16.2494 - mae: 16.7385\n",
            "Epoch 159/500\n",
            "30/30 [==============================] - 4s 122ms/step - loss: 15.9558 - mae: 16.4440\n",
            "Epoch 160/500\n",
            "30/30 [==============================] - 4s 129ms/step - loss: 15.9290 - mae: 16.4173\n",
            "Epoch 161/500\n",
            "30/30 [==============================] - 4s 123ms/step - loss: 15.9070 - mae: 16.3951\n",
            "Epoch 162/500\n",
            "30/30 [==============================] - 4s 123ms/step - loss: 16.0129 - mae: 16.5015\n",
            "Epoch 163/500\n",
            "30/30 [==============================] - 4s 123ms/step - loss: 16.0209 - mae: 16.5095\n",
            "Epoch 164/500\n",
            "30/30 [==============================] - 4s 122ms/step - loss: 15.9094 - mae: 16.3977\n",
            "Epoch 165/500\n",
            "30/30 [==============================] - 4s 123ms/step - loss: 15.9277 - mae: 16.4159\n",
            "Epoch 166/500\n",
            "30/30 [==============================] - 4s 123ms/step - loss: 15.9941 - mae: 16.4827\n",
            "Epoch 167/500\n",
            "30/30 [==============================] - 4s 123ms/step - loss: 15.9647 - mae: 16.4531\n",
            "Epoch 168/500\n",
            "30/30 [==============================] - 4s 122ms/step - loss: 16.0233 - mae: 16.5119\n",
            "Epoch 169/500\n",
            "30/30 [==============================] - 4s 122ms/step - loss: 15.8611 - mae: 16.3492\n",
            "Epoch 170/500\n",
            "30/30 [==============================] - 4s 123ms/step - loss: 15.9873 - mae: 16.4755\n",
            "Epoch 171/500\n",
            "30/30 [==============================] - 4s 122ms/step - loss: 15.9025 - mae: 16.3909\n",
            "Epoch 172/500\n",
            "30/30 [==============================] - 4s 122ms/step - loss: 15.8919 - mae: 16.3802\n",
            "Epoch 173/500\n",
            "30/30 [==============================] - 4s 122ms/step - loss: 15.8817 - mae: 16.3697\n",
            "Epoch 174/500\n",
            "30/30 [==============================] - 4s 122ms/step - loss: 16.0350 - mae: 16.5234\n",
            "Epoch 175/500\n",
            "30/30 [==============================] - 4s 124ms/step - loss: 16.0529 - mae: 16.5419\n",
            "Epoch 176/500\n",
            "30/30 [==============================] - 4s 122ms/step - loss: 15.9629 - mae: 16.4515\n",
            "Epoch 177/500\n",
            "30/30 [==============================] - 4s 122ms/step - loss: 15.8773 - mae: 16.3653\n",
            "Epoch 178/500\n",
            "30/30 [==============================] - 4s 123ms/step - loss: 15.8911 - mae: 16.3792\n",
            "Epoch 179/500\n",
            "30/30 [==============================] - 4s 123ms/step - loss: 15.8896 - mae: 16.3778\n",
            "Epoch 180/500\n",
            "30/30 [==============================] - 4s 123ms/step - loss: 15.8480 - mae: 16.3360\n",
            "Epoch 181/500\n",
            "30/30 [==============================] - 4s 122ms/step - loss: 15.9137 - mae: 16.4020\n",
            "Epoch 182/500\n",
            "30/30 [==============================] - 4s 122ms/step - loss: 15.8988 - mae: 16.3873\n",
            "Epoch 183/500\n",
            "30/30 [==============================] - 4s 123ms/step - loss: 15.9605 - mae: 16.4491\n",
            "Epoch 184/500\n",
            "30/30 [==============================] - 4s 123ms/step - loss: 15.9292 - mae: 16.4175\n",
            "Epoch 185/500\n",
            "30/30 [==============================] - 4s 122ms/step - loss: 16.0548 - mae: 16.5435\n",
            "Epoch 186/500\n",
            "30/30 [==============================] - 4s 124ms/step - loss: 15.9039 - mae: 16.3927\n",
            "Epoch 187/500\n",
            "30/30 [==============================] - 4s 123ms/step - loss: 16.0344 - mae: 16.5231\n",
            "Epoch 188/500\n",
            "30/30 [==============================] - 4s 124ms/step - loss: 15.8598 - mae: 16.3480\n",
            "Epoch 189/500\n",
            "30/30 [==============================] - 4s 123ms/step - loss: 15.7819 - mae: 16.2701\n",
            "Epoch 190/500\n",
            "30/30 [==============================] - 4s 123ms/step - loss: 15.8291 - mae: 16.3175\n",
            "Epoch 191/500\n",
            "30/30 [==============================] - 4s 124ms/step - loss: 15.8239 - mae: 16.3122\n",
            "Epoch 192/500\n",
            "30/30 [==============================] - 4s 122ms/step - loss: 15.9681 - mae: 16.4569\n",
            "Epoch 193/500\n",
            "30/30 [==============================] - 4s 123ms/step - loss: 15.8145 - mae: 16.3026\n",
            "Epoch 194/500\n",
            "30/30 [==============================] - 4s 123ms/step - loss: 15.8102 - mae: 16.2984\n",
            "Epoch 195/500\n",
            "30/30 [==============================] - 4s 124ms/step - loss: 15.8507 - mae: 16.3391\n",
            "Epoch 196/500\n",
            "30/30 [==============================] - 4s 124ms/step - loss: 15.9352 - mae: 16.4237\n",
            "Epoch 197/500\n",
            "30/30 [==============================] - 4s 125ms/step - loss: 15.9086 - mae: 16.3972\n",
            "Epoch 198/500\n",
            "30/30 [==============================] - 4s 126ms/step - loss: 15.8287 - mae: 16.3172\n",
            "Epoch 199/500\n",
            "30/30 [==============================] - 4s 127ms/step - loss: 15.9194 - mae: 16.4078\n",
            "Epoch 200/500\n",
            "30/30 [==============================] - 4s 122ms/step - loss: 15.8661 - mae: 16.3545\n",
            "Epoch 201/500\n",
            "30/30 [==============================] - 4s 122ms/step - loss: 15.9005 - mae: 16.3887\n",
            "Epoch 202/500\n",
            "30/30 [==============================] - 4s 122ms/step - loss: 16.0559 - mae: 16.5450\n",
            "Epoch 203/500\n",
            "30/30 [==============================] - 4s 123ms/step - loss: 15.8999 - mae: 16.3882\n",
            "Epoch 204/500\n",
            "30/30 [==============================] - 4s 124ms/step - loss: 15.7443 - mae: 16.2324\n",
            "Epoch 205/500\n",
            "30/30 [==============================] - 4s 123ms/step - loss: 15.8269 - mae: 16.3149\n",
            "Epoch 206/500\n",
            "30/30 [==============================] - 4s 124ms/step - loss: 15.7654 - mae: 16.2539\n",
            "Epoch 207/500\n",
            "30/30 [==============================] - 4s 123ms/step - loss: 15.8033 - mae: 16.2915\n",
            "Epoch 208/500\n",
            "30/30 [==============================] - 4s 123ms/step - loss: 15.7580 - mae: 16.2461\n",
            "Epoch 209/500\n",
            "30/30 [==============================] - 4s 122ms/step - loss: 15.7541 - mae: 16.2420\n",
            "Epoch 210/500\n",
            "30/30 [==============================] - 4s 123ms/step - loss: 15.9135 - mae: 16.4019\n",
            "Epoch 211/500\n",
            "30/30 [==============================] - 4s 123ms/step - loss: 16.0859 - mae: 16.5750\n",
            "Epoch 212/500\n",
            "30/30 [==============================] - 4s 122ms/step - loss: 15.7314 - mae: 16.2197\n",
            "Epoch 213/500\n",
            "30/30 [==============================] - 4s 121ms/step - loss: 15.8841 - mae: 16.3725\n",
            "Epoch 214/500\n",
            "30/30 [==============================] - 4s 119ms/step - loss: 15.7191 - mae: 16.2073\n",
            "Epoch 215/500\n",
            "30/30 [==============================] - 4s 121ms/step - loss: 15.6925 - mae: 16.1805\n",
            "Epoch 216/500\n",
            "30/30 [==============================] - 4s 123ms/step - loss: 15.9664 - mae: 16.4547\n",
            "Epoch 217/500\n",
            "30/30 [==============================] - 4s 124ms/step - loss: 15.8370 - mae: 16.3251\n",
            "Epoch 218/500\n",
            "30/30 [==============================] - 4s 122ms/step - loss: 15.6634 - mae: 16.1513\n",
            "Epoch 219/500\n",
            "30/30 [==============================] - 4s 123ms/step - loss: 15.7214 - mae: 16.2096\n",
            "Epoch 220/500\n",
            "30/30 [==============================] - 4s 121ms/step - loss: 15.7008 - mae: 16.1890\n",
            "Epoch 221/500\n",
            "30/30 [==============================] - 4s 122ms/step - loss: 15.7316 - mae: 16.2194\n",
            "Epoch 222/500\n",
            "30/30 [==============================] - 4s 123ms/step - loss: 15.6619 - mae: 16.1500\n",
            "Epoch 223/500\n",
            "30/30 [==============================] - 4s 123ms/step - loss: 15.7795 - mae: 16.2677\n",
            "Epoch 224/500\n",
            "30/30 [==============================] - 4s 123ms/step - loss: 15.6842 - mae: 16.1721\n",
            "Epoch 225/500\n",
            "30/30 [==============================] - 4s 122ms/step - loss: 15.6519 - mae: 16.1399\n",
            "Epoch 226/500\n",
            "30/30 [==============================] - 4s 123ms/step - loss: 15.7233 - mae: 16.2117\n",
            "Epoch 227/500\n",
            "10/30 [=========>....................] - ETA: 2s - loss: 15.4636 - mae: 15.9498"
          ],
          "name": "stdout"
        }
      ]
    },
    {
      "cell_type": "markdown",
      "metadata": {
        "id": "c9ZmPIgojEsm",
        "colab_type": "text"
      },
      "source": [
        "### Forecast on validation set"
      ]
    },
    {
      "cell_type": "code",
      "metadata": {
        "id": "m7jw0CJ9iyCn",
        "colab_type": "code",
        "colab": {}
      },
      "source": [
        "rnn_forecast = model_forecast(model, series[..., np.newaxis], window_size)\n",
        "rnn_forecast = rnn_forecast[split_time - window_size:-1, -1, 0]"
      ],
      "execution_count": 0,
      "outputs": []
    },
    {
      "cell_type": "markdown",
      "metadata": {
        "id": "dSQODJccjP0L",
        "colab_type": "text"
      },
      "source": [
        "### Plot actual vs forecasted values"
      ]
    },
    {
      "cell_type": "code",
      "metadata": {
        "id": "4q8leRFRjHVq",
        "colab_type": "code",
        "colab": {
          "base_uri": "https://localhost:8080/",
          "height": 388
        },
        "outputId": "974236d5-5bdb-4ff3-e80c-0ec0a3e52a93"
      },
      "source": [
        "plt.figure(figsize=(10, 6))\n",
        "plot_series(time_valid, x_valid)\n",
        "plot_series(time_valid, rnn_forecast)"
      ],
      "execution_count": 45,
      "outputs": [
        {
          "output_type": "display_data",
          "data": {
            "image/png": "[encoded data removed]",
            "text/plain": [
              "<Figure size 720x432 with 1 Axes>"
            ]
          },
          "metadata": {
            "tags": [],
            "needs_background": "light"
          }
        }
      ]
    },
    {
      "cell_type": "markdown",
      "metadata": {
        "id": "GKSw9yMZjTTo",
        "colab_type": "text"
      },
      "source": [
        "### Check mae"
      ]
    },
    {
      "cell_type": "code",
      "metadata": {
        "id": "K4bjawNSjYN4",
        "colab_type": "code",
        "colab": {
          "base_uri": "https://localhost:8080/",
          "height": 34
        },
        "outputId": "a7e70329-818f-4e21-9e48-4f61781ad9db"
      },
      "source": [
        "tf.keras.metrics.mean_absolute_error(x_valid, rnn_forecast).numpy()"
      ],
      "execution_count": 46,
      "outputs": [
        {
          "output_type": "execute_result",
          "data": {
            "text/plain": [
              "48.228413"
            ]
          },
          "metadata": {
            "tags": []
          },
          "execution_count": 46
        }
      ]
    },
    {
      "cell_type": "code",
      "metadata": {
        "id": "k6MCrwGXjdXS",
        "colab_type": "code",
        "colab": {}
      },
      "source": [
        "### Plot mae, loss against epochs"
      ],
      "execution_count": 0,
      "outputs": []
    },
    {
      "cell_type": "code",
      "metadata": {
        "id": "AsMzY4I-jbex",
        "colab_type": "code",
        "colab": {}
      },
      "source": [
        "import matplotlib.image  as mpimg\n",
        "import matplotlib.pyplot as plt\n",
        "\n",
        "#-----------------------------------------------------------\n",
        "# Retrieve a list of list results on training and test data\n",
        "# sets for each training epoch\n",
        "#-----------------------------------------------------------\n",
        "mae=history.history['mae']\n",
        "loss=history.history['loss']\n",
        "\n",
        "epochs=range(len(loss)) # Get number of epochs\n",
        "\n",
        "#------------------------------------------------\n",
        "# Plot MAE and Loss\n",
        "#------------------------------------------------\n",
        "plt.plot(epochs, mae, 'r')\n",
        "plt.plot(epochs, loss, 'b')\n",
        "plt.title('MAE and Loss')\n",
        "plt.xlabel(\"Epochs\")\n",
        "plt.ylabel(\"Accuracy\")\n",
        "plt.legend([\"MAE\", \"Loss\"])\n",
        "\n",
        "plt.figure()\n",
        "\n",
        "epochs_zoom = epochs[200:]\n",
        "mae_zoom = mae[200:]\n",
        "loss_zoom = loss[200:]\n",
        "\n",
        "#------------------------------------------------\n",
        "# Plot Zoomed MAE and Loss\n",
        "#------------------------------------------------\n",
        "plt.plot(epochs_zoom, mae_zoom, 'r')\n",
        "plt.plot(epochs_zoom, loss_zoom, 'b')\n",
        "plt.title('MAE and Loss')\n",
        "plt.xlabel(\"Epochs\")\n",
        "plt.ylabel(\"Accuracy\")\n",
        "plt.legend([\"MAE\", \"Loss\"])\n",
        "\n",
        "plt.figure()"
      ],
      "execution_count": 0,
      "outputs": []
    }
  ]
}